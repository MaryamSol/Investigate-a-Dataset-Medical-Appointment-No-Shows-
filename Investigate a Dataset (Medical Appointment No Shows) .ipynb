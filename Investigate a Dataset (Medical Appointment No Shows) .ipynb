{
 "cells": [
  {
   "cell_type": "markdown",
   "metadata": {},
   "source": [
    "\n",
    "# Project: Investigate a Dataset (Medical Appointment No Shows)\n",
    "\n",
    "## Table of Contents\n",
    "<ul>\n",
    "<li><a href=\"#intro\">Introduction</a></li>\n",
    "<li><a href=\"#wrangling\">Data Wrangling</a></li>\n",
    "<li><a href=\"#eda\">Exploratory Data Analysis</a></li>\n",
    "<li><a href=\"#conclusions\">Conclusions</a></li>\n",
    "</ul>"
   ]
  },
  {
   "cell_type": "markdown",
   "metadata": {},
   "source": [
    "<a id='intro'></a>\n",
    "## Introduction\n",
    "\n",
    "A patient makes a doctor appointment, receives all the instructions and still doesn't show. Why do 30% of the patients miss their scheduled appointments?\n",
    "The dataset information is collected from 100k medical appointments in Brazil .\n",
    "Data Definition:\n",
    "\n",
    " - PatientId: Identification of a patient that is unique for each person.\n",
    " - AppointmentID: Identification of each appointment.\n",
    " - Gender: Male or Female.\n",
    " - AppointmentDay: The day of the actual appointment, when they have to visit the doctor.\n",
    " - ScheduledDay: The day someone called or registered the appointment, this is before appointment of course.\n",
    " - Age: How old is the patient.\n",
    " - Neighbourhood: Where the appointment takes place.\n",
    " - Scholarship: 1 or 0.\n",
    " - Hipertension: 1 or 0.\n",
    " - Diabetes: 1 or 0.\n",
    " - Alcoholism: 1 or 0.\n",
    " - Handcap: 1 or 0.\n",
    " - SMS_received: 1 or more messages sent to the patient.\n",
    " - No-show: \"Yes\" or \"No\".\n"
   ]
  },
  {
   "cell_type": "markdown",
   "metadata": {},
   "source": [
    "## Questions to Explore:\n",
    "\n",
    "Here are some questions that we will have to answer while we explore the data\n",
    "\n",
    " - What is the percentage of patients who show up vs. who don't?\n",
    " - Is the Attendance influenced by gender?\n",
    " - Does Age influence Attendance?\n",
    " - Is the Attendance affected by a patient who is diagnosed with Diabetes, Hypertension, Alcoholism, or if a patient has a scholarship?\n",
    " - Does receiving the SMS influence showing up?\n",
    " - Is the Attendance affected by the severity of the Handicap?"
   ]
  },
  {
   "cell_type": "code",
   "execution_count": 185,
   "metadata": {
    "scrolled": true
   },
   "outputs": [],
   "source": [
    "# importing the libraries we need in our analyzing\n",
    "import numpy as np\n",
    "import pandas as pd\n",
    "import matplotlib.pyplot as plt\n",
    "import seaborn as sns\n",
    "sns.set_style('darkgrid')\n",
    "%matplotlib inline"
   ]
  },
  {
   "cell_type": "markdown",
   "metadata": {},
   "source": [
    "<a id='wrangling'></a>\n",
    "## Data Wrangling\n",
    "\n",
    "\n",
    "### Data Assessing"
   ]
  },
  {
   "cell_type": "code",
   "execution_count": 186,
   "metadata": {
    "scrolled": true
   },
   "outputs": [
    {
     "data": {
      "text/html": [
       "<div>\n",
       "<style scoped>\n",
       "    .dataframe tbody tr th:only-of-type {\n",
       "        vertical-align: middle;\n",
       "    }\n",
       "\n",
       "    .dataframe tbody tr th {\n",
       "        vertical-align: top;\n",
       "    }\n",
       "\n",
       "    .dataframe thead th {\n",
       "        text-align: right;\n",
       "    }\n",
       "</style>\n",
       "<table border=\"1\" class=\"dataframe\">\n",
       "  <thead>\n",
       "    <tr style=\"text-align: right;\">\n",
       "      <th></th>\n",
       "      <th>PatientId</th>\n",
       "      <th>AppointmentID</th>\n",
       "      <th>Gender</th>\n",
       "      <th>ScheduledDay</th>\n",
       "      <th>AppointmentDay</th>\n",
       "      <th>Age</th>\n",
       "      <th>Neighbourhood</th>\n",
       "      <th>Scholarship</th>\n",
       "      <th>Hipertension</th>\n",
       "      <th>Diabetes</th>\n",
       "      <th>Alcoholism</th>\n",
       "      <th>Handcap</th>\n",
       "      <th>SMS_received</th>\n",
       "      <th>No-show</th>\n",
       "    </tr>\n",
       "  </thead>\n",
       "  <tbody>\n",
       "    <tr>\n",
       "      <th>0</th>\n",
       "      <td>2.987250e+13</td>\n",
       "      <td>5642903</td>\n",
       "      <td>F</td>\n",
       "      <td>2016-04-29T18:38:08Z</td>\n",
       "      <td>2016-04-29T00:00:00Z</td>\n",
       "      <td>62</td>\n",
       "      <td>JARDIM DA PENHA</td>\n",
       "      <td>0</td>\n",
       "      <td>1</td>\n",
       "      <td>0</td>\n",
       "      <td>0</td>\n",
       "      <td>0</td>\n",
       "      <td>0</td>\n",
       "      <td>No</td>\n",
       "    </tr>\n",
       "    <tr>\n",
       "      <th>1</th>\n",
       "      <td>5.589978e+14</td>\n",
       "      <td>5642503</td>\n",
       "      <td>M</td>\n",
       "      <td>2016-04-29T16:08:27Z</td>\n",
       "      <td>2016-04-29T00:00:00Z</td>\n",
       "      <td>56</td>\n",
       "      <td>JARDIM DA PENHA</td>\n",
       "      <td>0</td>\n",
       "      <td>0</td>\n",
       "      <td>0</td>\n",
       "      <td>0</td>\n",
       "      <td>0</td>\n",
       "      <td>0</td>\n",
       "      <td>No</td>\n",
       "    </tr>\n",
       "    <tr>\n",
       "      <th>2</th>\n",
       "      <td>4.262962e+12</td>\n",
       "      <td>5642549</td>\n",
       "      <td>F</td>\n",
       "      <td>2016-04-29T16:19:04Z</td>\n",
       "      <td>2016-04-29T00:00:00Z</td>\n",
       "      <td>62</td>\n",
       "      <td>MATA DA PRAIA</td>\n",
       "      <td>0</td>\n",
       "      <td>0</td>\n",
       "      <td>0</td>\n",
       "      <td>0</td>\n",
       "      <td>0</td>\n",
       "      <td>0</td>\n",
       "      <td>No</td>\n",
       "    </tr>\n",
       "    <tr>\n",
       "      <th>3</th>\n",
       "      <td>8.679512e+11</td>\n",
       "      <td>5642828</td>\n",
       "      <td>F</td>\n",
       "      <td>2016-04-29T17:29:31Z</td>\n",
       "      <td>2016-04-29T00:00:00Z</td>\n",
       "      <td>8</td>\n",
       "      <td>PONTAL DE CAMBURI</td>\n",
       "      <td>0</td>\n",
       "      <td>0</td>\n",
       "      <td>0</td>\n",
       "      <td>0</td>\n",
       "      <td>0</td>\n",
       "      <td>0</td>\n",
       "      <td>No</td>\n",
       "    </tr>\n",
       "    <tr>\n",
       "      <th>4</th>\n",
       "      <td>8.841186e+12</td>\n",
       "      <td>5642494</td>\n",
       "      <td>F</td>\n",
       "      <td>2016-04-29T16:07:23Z</td>\n",
       "      <td>2016-04-29T00:00:00Z</td>\n",
       "      <td>56</td>\n",
       "      <td>JARDIM DA PENHA</td>\n",
       "      <td>0</td>\n",
       "      <td>1</td>\n",
       "      <td>1</td>\n",
       "      <td>0</td>\n",
       "      <td>0</td>\n",
       "      <td>0</td>\n",
       "      <td>No</td>\n",
       "    </tr>\n",
       "  </tbody>\n",
       "</table>\n",
       "</div>"
      ],
      "text/plain": [
       "      PatientId  AppointmentID Gender          ScheduledDay  \\\n",
       "0  2.987250e+13        5642903      F  2016-04-29T18:38:08Z   \n",
       "1  5.589978e+14        5642503      M  2016-04-29T16:08:27Z   \n",
       "2  4.262962e+12        5642549      F  2016-04-29T16:19:04Z   \n",
       "3  8.679512e+11        5642828      F  2016-04-29T17:29:31Z   \n",
       "4  8.841186e+12        5642494      F  2016-04-29T16:07:23Z   \n",
       "\n",
       "         AppointmentDay  Age      Neighbourhood  Scholarship  Hipertension  \\\n",
       "0  2016-04-29T00:00:00Z   62    JARDIM DA PENHA            0             1   \n",
       "1  2016-04-29T00:00:00Z   56    JARDIM DA PENHA            0             0   \n",
       "2  2016-04-29T00:00:00Z   62      MATA DA PRAIA            0             0   \n",
       "3  2016-04-29T00:00:00Z    8  PONTAL DE CAMBURI            0             0   \n",
       "4  2016-04-29T00:00:00Z   56    JARDIM DA PENHA            0             1   \n",
       "\n",
       "   Diabetes  Alcoholism  Handcap  SMS_received No-show  \n",
       "0         0           0        0             0      No  \n",
       "1         0           0        0             0      No  \n",
       "2         0           0        0             0      No  \n",
       "3         0           0        0             0      No  \n",
       "4         1           0        0             0      No  "
      ]
     },
     "execution_count": 186,
     "metadata": {},
     "output_type": "execute_result"
    }
   ],
   "source": [
    "# Load the csv file into dataframe\n",
    "df = pd.read_csv('noshowappointments-kagglev2-may-2016.csv')\n",
    "\n",
    "\n",
    "# view the first 5 rows\n",
    "df.head()"
   ]
  },
  {
   "cell_type": "code",
   "execution_count": 187,
   "metadata": {},
   "outputs": [
    {
     "data": {
      "text/plain": [
       "(110527, 14)"
      ]
     },
     "execution_count": 187,
     "metadata": {},
     "output_type": "execute_result"
    }
   ],
   "source": [
    "#check dataframe shape\n",
    "df.shape"
   ]
  },
  {
   "cell_type": "code",
   "execution_count": 188,
   "metadata": {},
   "outputs": [
    {
     "name": "stdout",
     "output_type": "stream",
     "text": [
      "<class 'pandas.core.frame.DataFrame'>\n",
      "RangeIndex: 110527 entries, 0 to 110526\n",
      "Data columns (total 14 columns):\n",
      " #   Column          Non-Null Count   Dtype  \n",
      "---  ------          --------------   -----  \n",
      " 0   PatientId       110527 non-null  float64\n",
      " 1   AppointmentID   110527 non-null  int64  \n",
      " 2   Gender          110527 non-null  object \n",
      " 3   ScheduledDay    110527 non-null  object \n",
      " 4   AppointmentDay  110527 non-null  object \n",
      " 5   Age             110527 non-null  int64  \n",
      " 6   Neighbourhood   110527 non-null  object \n",
      " 7   Scholarship     110527 non-null  int64  \n",
      " 8   Hipertension    110527 non-null  int64  \n",
      " 9   Diabetes        110527 non-null  int64  \n",
      " 10  Alcoholism      110527 non-null  int64  \n",
      " 11  Handcap         110527 non-null  int64  \n",
      " 12  SMS_received    110527 non-null  int64  \n",
      " 13  No-show         110527 non-null  object \n",
      "dtypes: float64(1), int64(8), object(5)\n",
      "memory usage: 11.8+ MB\n"
     ]
    }
   ],
   "source": [
    "# check info about data set\n",
    "df.info()"
   ]
  },
  {
   "cell_type": "code",
   "execution_count": 189,
   "metadata": {},
   "outputs": [
    {
     "data": {
      "text/plain": [
       "0"
      ]
     },
     "execution_count": 189,
     "metadata": {},
     "output_type": "execute_result"
    }
   ],
   "source": [
    "#check for duplicates\n",
    "df.duplicated().sum()\n"
   ]
  },
  {
   "cell_type": "code",
   "execution_count": 190,
   "metadata": {},
   "outputs": [
    {
     "name": "stdout",
     "output_type": "stream",
     "text": [
      "number of unique values in PatientId is : 62299\n",
      "number of unique values in AppointmentID is : 110527\n",
      "number of unique values in Gender is : 2\n",
      "number of unique values in ScheduledDay is : 103549\n",
      "number of unique values in AppointmentDay is : 27\n",
      "number of unique values in Age is : 104\n",
      "number of unique values in Neighbourhood is : 81\n",
      "number of unique values in Scholarship is : 2\n",
      "number of unique values in Hipertension is : 2\n",
      "number of unique values in Diabetes is : 2\n",
      "number of unique values in Alcoholism is : 2\n",
      "number of unique values in Handcap is : 5\n",
      "number of unique values in SMS_received is : 2\n",
      "number of unique values in No-show is : 2\n"
     ]
    }
   ],
   "source": [
    "# check for number of the unique values for each column\n",
    "columns = list(df.columns.values)\n",
    "for i in columns:\n",
    "    number_unique_value = df[i].nunique()    \n",
    "    print( \"number of unique values in {} is :\".format(i) , number_unique_value)    "
   ]
  },
  {
   "cell_type": "code",
   "execution_count": 191,
   "metadata": {},
   "outputs": [
    {
     "name": "stdout",
     "output_type": "stream",
     "text": [
      "number of unique value in Gender is : ['F' 'M']\n",
      "number of unique value in Age is : [ 62  56   8  76  23  39  21  19  30  29  22  28  54  15  50  40  46   4\n",
      "  13  65  45  51  32  12  61  38  79  18  63  64  85  59  55  71  49  78\n",
      "  31  58  27   6   2  11   7   0   3   1  69  68  60  67  36  10  35  20\n",
      "  26  34  33  16  42   5  47  17  41  44  37  24  66  77  81  70  53  75\n",
      "  73  52  74  43  89  57  14   9  48  83  72  25  80  87  88  84  82  90\n",
      "  94  86  91  98  92  96  93  95  97 102 115 100  99  -1]\n",
      "number of unique value in Scholarship is : [0 1]\n",
      "number of unique value in Hipertension is : [1 0]\n",
      "number of unique value in Diabetes is : [0 1]\n",
      "number of unique value in Alcoholism is : [0 1]\n",
      "number of unique value in Handcap is : [0 1 2 3 4]\n",
      "number of unique value in SMS_received is : [0 1]\n",
      "number of unique value in No-show is : ['No' 'Yes']\n"
     ]
    }
   ],
   "source": [
    "# check for the unique values in some columns\n",
    "col = list(df.columns.values)\n",
    "for i in col:\n",
    "    if i not in ['PatientId', 'AppointmentID', 'ScheduledDay', 'AppointmentDay', 'Neighbourhood']:\n",
    "        unique_values = df[i].unique()\n",
    "        print( \"number of unique value in {} is :\".format(i) , unique_values )\n",
    "  "
   ]
  },
  {
   "cell_type": "code",
   "execution_count": 192,
   "metadata": {},
   "outputs": [
    {
     "data": {
      "image/png": "[encoded data removed]",
      "text/plain": [
       "<Figure size 1152x144 with 1 Axes>"
      ]
     },
     "metadata": {
      "needs_background": "light"
     },
     "output_type": "display_data"
    }
   ],
   "source": [
    "# an overview look for age using boxplot\n",
    "plt.figure(figsize=(16,2))\n",
    "sns.boxplot(x=df_clean.Age);"
   ]
  },
  {
   "cell_type": "code",
   "execution_count": 193,
   "metadata": {},
   "outputs": [
    {
     "data": {
      "text/plain": [
       "48228"
      ]
     },
     "execution_count": 193,
     "metadata": {},
     "output_type": "execute_result"
    }
   ],
   "source": [
    "# check if some of the same patients has several appointments\n",
    "sum(df.PatientId.duplicated())"
   ]
  },
  {
   "cell_type": "markdown",
   "metadata": {},
   "source": [
    "#### Observations\n",
    "\n",
    " - No null values found\n",
    " - AppointmentID has no duplicates\n",
    " - Some column names has wrong spelling\n",
    " - \"No-show\" values are not clear , more explanation is on this page https://www.kaggle.com/joniarroba/noshowappointments/discussion/41034 , (\"No\" means they showed up on their appointments while \"Yes\" means they didn't!)\n",
    " - \"PatientId\" & \"AppointmentID\" datatypes are floats & integers instead of strings\n",
    " - \"ScheduledDay\" & \"AppointmentDay\" datatypes are strings instead of datetime\n",
    " - Age has negative values and outliers\n",
    " - Handcap has 5 values from 0 to 4 , for number of handicaps the patient has https://www.kaggle.com/joniarroba/noshowappointments/discussion/29699#229356\n",
    " - Scholarship,\tHipertension, Diabetes , Alcoholism , Handcap, SMS_received datatypes are integers  \n",
    " "
   ]
  },
  {
   "cell_type": "markdown",
   "metadata": {},
   "source": [
    "### Data Cleaning "
   ]
  },
  {
   "cell_type": "markdown",
   "metadata": {},
   "source": [
    "#### Make a copy for the data frame to clean"
   ]
  },
  {
   "cell_type": "code",
   "execution_count": 194,
   "metadata": {},
   "outputs": [],
   "source": [
    "df_clean = df.copy()"
   ]
  },
  {
   "cell_type": "markdown",
   "metadata": {},
   "source": [
    "#### Clean & rename columns headers\n",
    " - Correct the misspelled columns\n",
    " - change \"no-show\" to be \"Attendance\"\n",
    " "
   ]
  },
  {
   "cell_type": "code",
   "execution_count": 195,
   "metadata": {},
   "outputs": [
    {
     "data": {
      "text/html": [
       "<div>\n",
       "<style scoped>\n",
       "    .dataframe tbody tr th:only-of-type {\n",
       "        vertical-align: middle;\n",
       "    }\n",
       "\n",
       "    .dataframe tbody tr th {\n",
       "        vertical-align: top;\n",
       "    }\n",
       "\n",
       "    .dataframe thead th {\n",
       "        text-align: right;\n",
       "    }\n",
       "</style>\n",
       "<table border=\"1\" class=\"dataframe\">\n",
       "  <thead>\n",
       "    <tr style=\"text-align: right;\">\n",
       "      <th></th>\n",
       "      <th>PatientId</th>\n",
       "      <th>AppointmentID</th>\n",
       "      <th>Gender</th>\n",
       "      <th>ScheduledDay</th>\n",
       "      <th>AppointmentDay</th>\n",
       "      <th>Age</th>\n",
       "      <th>Neighbourhood</th>\n",
       "      <th>Scholarship</th>\n",
       "      <th>Hypertension</th>\n",
       "      <th>Diabetes</th>\n",
       "      <th>Alcoholism</th>\n",
       "      <th>Handicap</th>\n",
       "      <th>SMS_received</th>\n",
       "      <th>Attendance</th>\n",
       "    </tr>\n",
       "  </thead>\n",
       "  <tbody>\n",
       "    <tr>\n",
       "      <th>0</th>\n",
       "      <td>2.987250e+13</td>\n",
       "      <td>5642903</td>\n",
       "      <td>F</td>\n",
       "      <td>2016-04-29T18:38:08Z</td>\n",
       "      <td>2016-04-29T00:00:00Z</td>\n",
       "      <td>62</td>\n",
       "      <td>JARDIM DA PENHA</td>\n",
       "      <td>0</td>\n",
       "      <td>1</td>\n",
       "      <td>0</td>\n",
       "      <td>0</td>\n",
       "      <td>0</td>\n",
       "      <td>0</td>\n",
       "      <td>No</td>\n",
       "    </tr>\n",
       "    <tr>\n",
       "      <th>1</th>\n",
       "      <td>5.589978e+14</td>\n",
       "      <td>5642503</td>\n",
       "      <td>M</td>\n",
       "      <td>2016-04-29T16:08:27Z</td>\n",
       "      <td>2016-04-29T00:00:00Z</td>\n",
       "      <td>56</td>\n",
       "      <td>JARDIM DA PENHA</td>\n",
       "      <td>0</td>\n",
       "      <td>0</td>\n",
       "      <td>0</td>\n",
       "      <td>0</td>\n",
       "      <td>0</td>\n",
       "      <td>0</td>\n",
       "      <td>No</td>\n",
       "    </tr>\n",
       "    <tr>\n",
       "      <th>2</th>\n",
       "      <td>4.262962e+12</td>\n",
       "      <td>5642549</td>\n",
       "      <td>F</td>\n",
       "      <td>2016-04-29T16:19:04Z</td>\n",
       "      <td>2016-04-29T00:00:00Z</td>\n",
       "      <td>62</td>\n",
       "      <td>MATA DA PRAIA</td>\n",
       "      <td>0</td>\n",
       "      <td>0</td>\n",
       "      <td>0</td>\n",
       "      <td>0</td>\n",
       "      <td>0</td>\n",
       "      <td>0</td>\n",
       "      <td>No</td>\n",
       "    </tr>\n",
       "    <tr>\n",
       "      <th>3</th>\n",
       "      <td>8.679512e+11</td>\n",
       "      <td>5642828</td>\n",
       "      <td>F</td>\n",
       "      <td>2016-04-29T17:29:31Z</td>\n",
       "      <td>2016-04-29T00:00:00Z</td>\n",
       "      <td>8</td>\n",
       "      <td>PONTAL DE CAMBURI</td>\n",
       "      <td>0</td>\n",
       "      <td>0</td>\n",
       "      <td>0</td>\n",
       "      <td>0</td>\n",
       "      <td>0</td>\n",
       "      <td>0</td>\n",
       "      <td>No</td>\n",
       "    </tr>\n",
       "    <tr>\n",
       "      <th>4</th>\n",
       "      <td>8.841186e+12</td>\n",
       "      <td>5642494</td>\n",
       "      <td>F</td>\n",
       "      <td>2016-04-29T16:07:23Z</td>\n",
       "      <td>2016-04-29T00:00:00Z</td>\n",
       "      <td>56</td>\n",
       "      <td>JARDIM DA PENHA</td>\n",
       "      <td>0</td>\n",
       "      <td>1</td>\n",
       "      <td>1</td>\n",
       "      <td>0</td>\n",
       "      <td>0</td>\n",
       "      <td>0</td>\n",
       "      <td>No</td>\n",
       "    </tr>\n",
       "  </tbody>\n",
       "</table>\n",
       "</div>"
      ],
      "text/plain": [
       "      PatientId  AppointmentID Gender          ScheduledDay  \\\n",
       "0  2.987250e+13        5642903      F  2016-04-29T18:38:08Z   \n",
       "1  5.589978e+14        5642503      M  2016-04-29T16:08:27Z   \n",
       "2  4.262962e+12        5642549      F  2016-04-29T16:19:04Z   \n",
       "3  8.679512e+11        5642828      F  2016-04-29T17:29:31Z   \n",
       "4  8.841186e+12        5642494      F  2016-04-29T16:07:23Z   \n",
       "\n",
       "         AppointmentDay  Age      Neighbourhood  Scholarship  Hypertension  \\\n",
       "0  2016-04-29T00:00:00Z   62    JARDIM DA PENHA            0             1   \n",
       "1  2016-04-29T00:00:00Z   56    JARDIM DA PENHA            0             0   \n",
       "2  2016-04-29T00:00:00Z   62      MATA DA PRAIA            0             0   \n",
       "3  2016-04-29T00:00:00Z    8  PONTAL DE CAMBURI            0             0   \n",
       "4  2016-04-29T00:00:00Z   56    JARDIM DA PENHA            0             1   \n",
       "\n",
       "   Diabetes  Alcoholism  Handicap  SMS_received Attendance  \n",
       "0         0           0         0             0         No  \n",
       "1         0           0         0             0         No  \n",
       "2         0           0         0             0         No  \n",
       "3         0           0         0             0         No  \n",
       "4         1           0         0             0         No  "
      ]
     },
     "execution_count": 195,
     "metadata": {},
     "output_type": "execute_result"
    }
   ],
   "source": [
    "#rename columns\n",
    "df_clean.rename(columns = {'Hipertension':'Hypertension' , \"Handcap\" :'Handicap', \"No-show\" :\"Attendance\" }, inplace = True)\n",
    "df_clean.head()"
   ]
  },
  {
   "cell_type": "markdown",
   "metadata": {},
   "source": [
    "#### Fix \"PatientId\" & \"AppointmentID\" datatypes to strings\n",
    "  "
   ]
  },
  {
   "cell_type": "code",
   "execution_count": 196,
   "metadata": {},
   "outputs": [
    {
     "name": "stdout",
     "output_type": "stream",
     "text": [
      "PatientId datatype is object, and the number of unique values is 62299\n",
      "AppointmentID datatype is object, and the number of unique values is 110527\n"
     ]
    },
    {
     "data": {
      "text/html": [
       "<div>\n",
       "<style scoped>\n",
       "    .dataframe tbody tr th:only-of-type {\n",
       "        vertical-align: middle;\n",
       "    }\n",
       "\n",
       "    .dataframe tbody tr th {\n",
       "        vertical-align: top;\n",
       "    }\n",
       "\n",
       "    .dataframe thead th {\n",
       "        text-align: right;\n",
       "    }\n",
       "</style>\n",
       "<table border=\"1\" class=\"dataframe\">\n",
       "  <thead>\n",
       "    <tr style=\"text-align: right;\">\n",
       "      <th></th>\n",
       "      <th>PatientId</th>\n",
       "      <th>AppointmentID</th>\n",
       "      <th>Gender</th>\n",
       "      <th>ScheduledDay</th>\n",
       "      <th>AppointmentDay</th>\n",
       "      <th>Age</th>\n",
       "      <th>Neighbourhood</th>\n",
       "      <th>Scholarship</th>\n",
       "      <th>Hypertension</th>\n",
       "      <th>Diabetes</th>\n",
       "      <th>Alcoholism</th>\n",
       "      <th>Handicap</th>\n",
       "      <th>SMS_received</th>\n",
       "      <th>Attendance</th>\n",
       "    </tr>\n",
       "  </thead>\n",
       "  <tbody>\n",
       "    <tr>\n",
       "      <th>0</th>\n",
       "      <td>29872499824296</td>\n",
       "      <td>5642903</td>\n",
       "      <td>F</td>\n",
       "      <td>2016-04-29T18:38:08Z</td>\n",
       "      <td>2016-04-29T00:00:00Z</td>\n",
       "      <td>62</td>\n",
       "      <td>JARDIM DA PENHA</td>\n",
       "      <td>0</td>\n",
       "      <td>1</td>\n",
       "      <td>0</td>\n",
       "      <td>0</td>\n",
       "      <td>0</td>\n",
       "      <td>0</td>\n",
       "      <td>No</td>\n",
       "    </tr>\n",
       "    <tr>\n",
       "      <th>1</th>\n",
       "      <td>558997776694438</td>\n",
       "      <td>5642503</td>\n",
       "      <td>M</td>\n",
       "      <td>2016-04-29T16:08:27Z</td>\n",
       "      <td>2016-04-29T00:00:00Z</td>\n",
       "      <td>56</td>\n",
       "      <td>JARDIM DA PENHA</td>\n",
       "      <td>0</td>\n",
       "      <td>0</td>\n",
       "      <td>0</td>\n",
       "      <td>0</td>\n",
       "      <td>0</td>\n",
       "      <td>0</td>\n",
       "      <td>No</td>\n",
       "    </tr>\n",
       "  </tbody>\n",
       "</table>\n",
       "</div>"
      ],
      "text/plain": [
       "         PatientId AppointmentID Gender          ScheduledDay  \\\n",
       "0   29872499824296       5642903      F  2016-04-29T18:38:08Z   \n",
       "1  558997776694438       5642503      M  2016-04-29T16:08:27Z   \n",
       "\n",
       "         AppointmentDay  Age    Neighbourhood  Scholarship  Hypertension  \\\n",
       "0  2016-04-29T00:00:00Z   62  JARDIM DA PENHA            0             1   \n",
       "1  2016-04-29T00:00:00Z   56  JARDIM DA PENHA            0             0   \n",
       "\n",
       "   Diabetes  Alcoholism  Handicap  SMS_received Attendance  \n",
       "0         0           0         0             0         No  \n",
       "1         0           0         0             0         No  "
      ]
     },
     "execution_count": 196,
     "metadata": {},
     "output_type": "execute_result"
    }
   ],
   "source": [
    "#### change \"PatientId\" & \"AppointmentID\" datatypes to strings\n",
    "df_clean['PatientId'] = df_clean['PatientId'].astype(str).str[:-2]\n",
    "df_clean['AppointmentID'] = df_clean['AppointmentID'].astype(str)\n",
    "\n",
    "#test outcome\n",
    "\n",
    "#check new datatypes and test it didn't affect our dataframe unique values\n",
    "print (\"PatientId datatype is {}, and the number of unique values is {}\".format(df_clean['PatientId'].dtypes, df_clean['PatientId'].nunique()))\n",
    "print (\"AppointmentID datatype is {}, and the number of unique values is {}\".format(df_clean['AppointmentID'].dtypes , df_clean['AppointmentID'].nunique()))\n",
    "\n",
    "#display first 2 rows\n",
    "df_clean.head(2)"
   ]
  },
  {
   "cell_type": "markdown",
   "metadata": {},
   "source": [
    "#### Clean \"ScheduledDay\" & \"AppointmentDay\" columns.\n",
    " - Change \"ScheduledDay\" & \"AppointmentDay\" datatypes into Datetime\n",
    " - We could find the waiting period between both days.\n",
    " - Time in both columns is not relevent to our analysis"
   ]
  },
  {
   "cell_type": "code",
   "execution_count": 197,
   "metadata": {
    "scrolled": true
   },
   "outputs": [
    {
     "name": "stdout",
     "output_type": "stream",
     "text": [
      "datetime64[ns] datetime64[ns]\n"
     ]
    },
    {
     "data": {
      "text/html": [
       "<div>\n",
       "<style scoped>\n",
       "    .dataframe tbody tr th:only-of-type {\n",
       "        vertical-align: middle;\n",
       "    }\n",
       "\n",
       "    .dataframe tbody tr th {\n",
       "        vertical-align: top;\n",
       "    }\n",
       "\n",
       "    .dataframe thead th {\n",
       "        text-align: right;\n",
       "    }\n",
       "</style>\n",
       "<table border=\"1\" class=\"dataframe\">\n",
       "  <thead>\n",
       "    <tr style=\"text-align: right;\">\n",
       "      <th></th>\n",
       "      <th>PatientId</th>\n",
       "      <th>AppointmentID</th>\n",
       "      <th>Gender</th>\n",
       "      <th>ScheduledDay</th>\n",
       "      <th>AppointmentDay</th>\n",
       "      <th>Age</th>\n",
       "      <th>Neighbourhood</th>\n",
       "      <th>Scholarship</th>\n",
       "      <th>Hypertension</th>\n",
       "      <th>Diabetes</th>\n",
       "      <th>Alcoholism</th>\n",
       "      <th>Handicap</th>\n",
       "      <th>SMS_received</th>\n",
       "      <th>Attendance</th>\n",
       "    </tr>\n",
       "  </thead>\n",
       "  <tbody>\n",
       "    <tr>\n",
       "      <th>0</th>\n",
       "      <td>29872499824296</td>\n",
       "      <td>5642903</td>\n",
       "      <td>F</td>\n",
       "      <td>2016-04-29</td>\n",
       "      <td>2016-04-29</td>\n",
       "      <td>62</td>\n",
       "      <td>JARDIM DA PENHA</td>\n",
       "      <td>0</td>\n",
       "      <td>1</td>\n",
       "      <td>0</td>\n",
       "      <td>0</td>\n",
       "      <td>0</td>\n",
       "      <td>0</td>\n",
       "      <td>No</td>\n",
       "    </tr>\n",
       "    <tr>\n",
       "      <th>1</th>\n",
       "      <td>558997776694438</td>\n",
       "      <td>5642503</td>\n",
       "      <td>M</td>\n",
       "      <td>2016-04-29</td>\n",
       "      <td>2016-04-29</td>\n",
       "      <td>56</td>\n",
       "      <td>JARDIM DA PENHA</td>\n",
       "      <td>0</td>\n",
       "      <td>0</td>\n",
       "      <td>0</td>\n",
       "      <td>0</td>\n",
       "      <td>0</td>\n",
       "      <td>0</td>\n",
       "      <td>No</td>\n",
       "    </tr>\n",
       "    <tr>\n",
       "      <th>2</th>\n",
       "      <td>4262962299951</td>\n",
       "      <td>5642549</td>\n",
       "      <td>F</td>\n",
       "      <td>2016-04-29</td>\n",
       "      <td>2016-04-29</td>\n",
       "      <td>62</td>\n",
       "      <td>MATA DA PRAIA</td>\n",
       "      <td>0</td>\n",
       "      <td>0</td>\n",
       "      <td>0</td>\n",
       "      <td>0</td>\n",
       "      <td>0</td>\n",
       "      <td>0</td>\n",
       "      <td>No</td>\n",
       "    </tr>\n",
       "    <tr>\n",
       "      <th>3</th>\n",
       "      <td>867951213174</td>\n",
       "      <td>5642828</td>\n",
       "      <td>F</td>\n",
       "      <td>2016-04-29</td>\n",
       "      <td>2016-04-29</td>\n",
       "      <td>8</td>\n",
       "      <td>PONTAL DE CAMBURI</td>\n",
       "      <td>0</td>\n",
       "      <td>0</td>\n",
       "      <td>0</td>\n",
       "      <td>0</td>\n",
       "      <td>0</td>\n",
       "      <td>0</td>\n",
       "      <td>No</td>\n",
       "    </tr>\n",
       "    <tr>\n",
       "      <th>4</th>\n",
       "      <td>8841186448183</td>\n",
       "      <td>5642494</td>\n",
       "      <td>F</td>\n",
       "      <td>2016-04-29</td>\n",
       "      <td>2016-04-29</td>\n",
       "      <td>56</td>\n",
       "      <td>JARDIM DA PENHA</td>\n",
       "      <td>0</td>\n",
       "      <td>1</td>\n",
       "      <td>1</td>\n",
       "      <td>0</td>\n",
       "      <td>0</td>\n",
       "      <td>0</td>\n",
       "      <td>No</td>\n",
       "    </tr>\n",
       "  </tbody>\n",
       "</table>\n",
       "</div>"
      ],
      "text/plain": [
       "         PatientId AppointmentID Gender ScheduledDay AppointmentDay  Age  \\\n",
       "0   29872499824296       5642903      F   2016-04-29     2016-04-29   62   \n",
       "1  558997776694438       5642503      M   2016-04-29     2016-04-29   56   \n",
       "2    4262962299951       5642549      F   2016-04-29     2016-04-29   62   \n",
       "3     867951213174       5642828      F   2016-04-29     2016-04-29    8   \n",
       "4    8841186448183       5642494      F   2016-04-29     2016-04-29   56   \n",
       "\n",
       "       Neighbourhood  Scholarship  Hypertension  Diabetes  Alcoholism  \\\n",
       "0    JARDIM DA PENHA            0             1         0           0   \n",
       "1    JARDIM DA PENHA            0             0         0           0   \n",
       "2      MATA DA PRAIA            0             0         0           0   \n",
       "3  PONTAL DE CAMBURI            0             0         0           0   \n",
       "4    JARDIM DA PENHA            0             1         1           0   \n",
       "\n",
       "   Handicap  SMS_received Attendance  \n",
       "0         0             0         No  \n",
       "1         0             0         No  \n",
       "2         0             0         No  \n",
       "3         0             0         No  \n",
       "4         0             0         No  "
      ]
     },
     "execution_count": 197,
     "metadata": {},
     "output_type": "execute_result"
    }
   ],
   "source": [
    "# change \"ScheduledDay\" & \"AppointmentDay\" datatypes into Datetime\n",
    "df_clean[\"ScheduledDay\"] = pd.to_datetime(df_clean['ScheduledDay']).dt.date.astype('datetime64[ns]')\n",
    "df_clean[\"AppointmentDay\"] = pd.to_datetime(df_clean['AppointmentDay']).dt.date.astype('datetime64[ns]')\n",
    "\n",
    "#check outcome\n",
    "print (df_clean[\"ScheduledDay\"].dtypes ,df_clean[\"AppointmentDay\"].dtypes)\n",
    "df_clean.head()"
   ]
  },
  {
   "cell_type": "code",
   "execution_count": 198,
   "metadata": {},
   "outputs": [
    {
     "data": {
      "text/html": [
       "<div>\n",
       "<style scoped>\n",
       "    .dataframe tbody tr th:only-of-type {\n",
       "        vertical-align: middle;\n",
       "    }\n",
       "\n",
       "    .dataframe tbody tr th {\n",
       "        vertical-align: top;\n",
       "    }\n",
       "\n",
       "    .dataframe thead th {\n",
       "        text-align: right;\n",
       "    }\n",
       "</style>\n",
       "<table border=\"1\" class=\"dataframe\">\n",
       "  <thead>\n",
       "    <tr style=\"text-align: right;\">\n",
       "      <th></th>\n",
       "      <th>PatientId</th>\n",
       "      <th>AppointmentID</th>\n",
       "      <th>Gender</th>\n",
       "      <th>ScheduledDay</th>\n",
       "      <th>AppointmentDay</th>\n",
       "      <th>Age</th>\n",
       "      <th>Neighbourhood</th>\n",
       "      <th>Scholarship</th>\n",
       "      <th>Hypertension</th>\n",
       "      <th>Diabetes</th>\n",
       "      <th>Alcoholism</th>\n",
       "      <th>Handicap</th>\n",
       "      <th>SMS_received</th>\n",
       "      <th>Attendance</th>\n",
       "      <th>waitingperiod</th>\n",
       "    </tr>\n",
       "  </thead>\n",
       "  <tbody>\n",
       "    <tr>\n",
       "      <th>0</th>\n",
       "      <td>29872499824296</td>\n",
       "      <td>5642903</td>\n",
       "      <td>F</td>\n",
       "      <td>2016-04-29</td>\n",
       "      <td>2016-04-29</td>\n",
       "      <td>62</td>\n",
       "      <td>JARDIM DA PENHA</td>\n",
       "      <td>0</td>\n",
       "      <td>1</td>\n",
       "      <td>0</td>\n",
       "      <td>0</td>\n",
       "      <td>0</td>\n",
       "      <td>0</td>\n",
       "      <td>No</td>\n",
       "      <td>0 days</td>\n",
       "    </tr>\n",
       "    <tr>\n",
       "      <th>1</th>\n",
       "      <td>558997776694438</td>\n",
       "      <td>5642503</td>\n",
       "      <td>M</td>\n",
       "      <td>2016-04-29</td>\n",
       "      <td>2016-04-29</td>\n",
       "      <td>56</td>\n",
       "      <td>JARDIM DA PENHA</td>\n",
       "      <td>0</td>\n",
       "      <td>0</td>\n",
       "      <td>0</td>\n",
       "      <td>0</td>\n",
       "      <td>0</td>\n",
       "      <td>0</td>\n",
       "      <td>No</td>\n",
       "      <td>0 days</td>\n",
       "    </tr>\n",
       "    <tr>\n",
       "      <th>2</th>\n",
       "      <td>4262962299951</td>\n",
       "      <td>5642549</td>\n",
       "      <td>F</td>\n",
       "      <td>2016-04-29</td>\n",
       "      <td>2016-04-29</td>\n",
       "      <td>62</td>\n",
       "      <td>MATA DA PRAIA</td>\n",
       "      <td>0</td>\n",
       "      <td>0</td>\n",
       "      <td>0</td>\n",
       "      <td>0</td>\n",
       "      <td>0</td>\n",
       "      <td>0</td>\n",
       "      <td>No</td>\n",
       "      <td>0 days</td>\n",
       "    </tr>\n",
       "    <tr>\n",
       "      <th>3</th>\n",
       "      <td>867951213174</td>\n",
       "      <td>5642828</td>\n",
       "      <td>F</td>\n",
       "      <td>2016-04-29</td>\n",
       "      <td>2016-04-29</td>\n",
       "      <td>8</td>\n",
       "      <td>PONTAL DE CAMBURI</td>\n",
       "      <td>0</td>\n",
       "      <td>0</td>\n",
       "      <td>0</td>\n",
       "      <td>0</td>\n",
       "      <td>0</td>\n",
       "      <td>0</td>\n",
       "      <td>No</td>\n",
       "      <td>0 days</td>\n",
       "    </tr>\n",
       "    <tr>\n",
       "      <th>4</th>\n",
       "      <td>8841186448183</td>\n",
       "      <td>5642494</td>\n",
       "      <td>F</td>\n",
       "      <td>2016-04-29</td>\n",
       "      <td>2016-04-29</td>\n",
       "      <td>56</td>\n",
       "      <td>JARDIM DA PENHA</td>\n",
       "      <td>0</td>\n",
       "      <td>1</td>\n",
       "      <td>1</td>\n",
       "      <td>0</td>\n",
       "      <td>0</td>\n",
       "      <td>0</td>\n",
       "      <td>No</td>\n",
       "      <td>0 days</td>\n",
       "    </tr>\n",
       "  </tbody>\n",
       "</table>\n",
       "</div>"
      ],
      "text/plain": [
       "         PatientId AppointmentID Gender ScheduledDay AppointmentDay  Age  \\\n",
       "0   29872499824296       5642903      F   2016-04-29     2016-04-29   62   \n",
       "1  558997776694438       5642503      M   2016-04-29     2016-04-29   56   \n",
       "2    4262962299951       5642549      F   2016-04-29     2016-04-29   62   \n",
       "3     867951213174       5642828      F   2016-04-29     2016-04-29    8   \n",
       "4    8841186448183       5642494      F   2016-04-29     2016-04-29   56   \n",
       "\n",
       "       Neighbourhood  Scholarship  Hypertension  Diabetes  Alcoholism  \\\n",
       "0    JARDIM DA PENHA            0             1         0           0   \n",
       "1    JARDIM DA PENHA            0             0         0           0   \n",
       "2      MATA DA PRAIA            0             0         0           0   \n",
       "3  PONTAL DE CAMBURI            0             0         0           0   \n",
       "4    JARDIM DA PENHA            0             1         1           0   \n",
       "\n",
       "   Handicap  SMS_received Attendance waitingperiod  \n",
       "0         0             0         No        0 days  \n",
       "1         0             0         No        0 days  \n",
       "2         0             0         No        0 days  \n",
       "3         0             0         No        0 days  \n",
       "4         0             0         No        0 days  "
      ]
     },
     "execution_count": 198,
     "metadata": {},
     "output_type": "execute_result"
    }
   ],
   "source": [
    "# create a column for the waiting period between the days\n",
    "df_clean['waitingperiod'] =  (df_clean['AppointmentDay'] - df_clean['ScheduledDay']).astype(str)\n",
    "#check outcome\n",
    "df_clean.head()"
   ]
  },
  {
   "cell_type": "code",
   "execution_count": 199,
   "metadata": {},
   "outputs": [
    {
     "data": {
      "text/html": [
       "<div>\n",
       "<style scoped>\n",
       "    .dataframe tbody tr th:only-of-type {\n",
       "        vertical-align: middle;\n",
       "    }\n",
       "\n",
       "    .dataframe tbody tr th {\n",
       "        vertical-align: top;\n",
       "    }\n",
       "\n",
       "    .dataframe thead th {\n",
       "        text-align: right;\n",
       "    }\n",
       "</style>\n",
       "<table border=\"1\" class=\"dataframe\">\n",
       "  <thead>\n",
       "    <tr style=\"text-align: right;\">\n",
       "      <th></th>\n",
       "      <th>PatientId</th>\n",
       "      <th>AppointmentID</th>\n",
       "      <th>Gender</th>\n",
       "      <th>ScheduledDay</th>\n",
       "      <th>AppointmentDay</th>\n",
       "      <th>Age</th>\n",
       "      <th>Neighbourhood</th>\n",
       "      <th>Scholarship</th>\n",
       "      <th>Hypertension</th>\n",
       "      <th>Diabetes</th>\n",
       "      <th>Alcoholism</th>\n",
       "      <th>Handicap</th>\n",
       "      <th>SMS_received</th>\n",
       "      <th>Attendance</th>\n",
       "      <th>waitingperiod</th>\n",
       "    </tr>\n",
       "  </thead>\n",
       "  <tbody>\n",
       "    <tr>\n",
       "      <th>27033</th>\n",
       "      <td>7839272661752</td>\n",
       "      <td>5679978</td>\n",
       "      <td>M</td>\n",
       "      <td>2016-05-10</td>\n",
       "      <td>2016-05-09</td>\n",
       "      <td>38</td>\n",
       "      <td>RESISTÊNCIA</td>\n",
       "      <td>0</td>\n",
       "      <td>0</td>\n",
       "      <td>0</td>\n",
       "      <td>0</td>\n",
       "      <td>1</td>\n",
       "      <td>0</td>\n",
       "      <td>Yes</td>\n",
       "      <td>-1 days</td>\n",
       "    </tr>\n",
       "    <tr>\n",
       "      <th>55226</th>\n",
       "      <td>7896293967868</td>\n",
       "      <td>5715660</td>\n",
       "      <td>F</td>\n",
       "      <td>2016-05-18</td>\n",
       "      <td>2016-05-17</td>\n",
       "      <td>19</td>\n",
       "      <td>SANTO ANTÔNIO</td>\n",
       "      <td>0</td>\n",
       "      <td>0</td>\n",
       "      <td>0</td>\n",
       "      <td>0</td>\n",
       "      <td>1</td>\n",
       "      <td>0</td>\n",
       "      <td>Yes</td>\n",
       "      <td>-1 days</td>\n",
       "    </tr>\n",
       "    <tr>\n",
       "      <th>64175</th>\n",
       "      <td>24252258389979</td>\n",
       "      <td>5664962</td>\n",
       "      <td>F</td>\n",
       "      <td>2016-05-05</td>\n",
       "      <td>2016-05-04</td>\n",
       "      <td>22</td>\n",
       "      <td>CONSOLAÇÃO</td>\n",
       "      <td>0</td>\n",
       "      <td>0</td>\n",
       "      <td>0</td>\n",
       "      <td>0</td>\n",
       "      <td>0</td>\n",
       "      <td>0</td>\n",
       "      <td>Yes</td>\n",
       "      <td>-1 days</td>\n",
       "    </tr>\n",
       "    <tr>\n",
       "      <th>71533</th>\n",
       "      <td>998231581612122</td>\n",
       "      <td>5686628</td>\n",
       "      <td>F</td>\n",
       "      <td>2016-05-11</td>\n",
       "      <td>2016-05-05</td>\n",
       "      <td>81</td>\n",
       "      <td>SANTO ANTÔNIO</td>\n",
       "      <td>0</td>\n",
       "      <td>0</td>\n",
       "      <td>0</td>\n",
       "      <td>0</td>\n",
       "      <td>0</td>\n",
       "      <td>0</td>\n",
       "      <td>Yes</td>\n",
       "      <td>-6 days</td>\n",
       "    </tr>\n",
       "    <tr>\n",
       "      <th>72362</th>\n",
       "      <td>3787481966821</td>\n",
       "      <td>5655637</td>\n",
       "      <td>M</td>\n",
       "      <td>2016-05-04</td>\n",
       "      <td>2016-05-03</td>\n",
       "      <td>7</td>\n",
       "      <td>TABUAZEIRO</td>\n",
       "      <td>0</td>\n",
       "      <td>0</td>\n",
       "      <td>0</td>\n",
       "      <td>0</td>\n",
       "      <td>0</td>\n",
       "      <td>0</td>\n",
       "      <td>Yes</td>\n",
       "      <td>-1 days</td>\n",
       "    </tr>\n",
       "  </tbody>\n",
       "</table>\n",
       "</div>"
      ],
      "text/plain": [
       "             PatientId AppointmentID Gender ScheduledDay AppointmentDay  Age  \\\n",
       "27033    7839272661752       5679978      M   2016-05-10     2016-05-09   38   \n",
       "55226    7896293967868       5715660      F   2016-05-18     2016-05-17   19   \n",
       "64175   24252258389979       5664962      F   2016-05-05     2016-05-04   22   \n",
       "71533  998231581612122       5686628      F   2016-05-11     2016-05-05   81   \n",
       "72362    3787481966821       5655637      M   2016-05-04     2016-05-03    7   \n",
       "\n",
       "       Neighbourhood  Scholarship  Hypertension  Diabetes  Alcoholism  \\\n",
       "27033    RESISTÊNCIA            0             0         0           0   \n",
       "55226  SANTO ANTÔNIO            0             0         0           0   \n",
       "64175     CONSOLAÇÃO            0             0         0           0   \n",
       "71533  SANTO ANTÔNIO            0             0         0           0   \n",
       "72362     TABUAZEIRO            0             0         0           0   \n",
       "\n",
       "       Handicap  SMS_received Attendance waitingperiod  \n",
       "27033         1             0        Yes       -1 days  \n",
       "55226         1             0        Yes       -1 days  \n",
       "64175         0             0        Yes       -1 days  \n",
       "71533         0             0        Yes       -6 days  \n",
       "72362         0             0        Yes       -1 days  "
      ]
     },
     "execution_count": 199,
     "metadata": {},
     "output_type": "execute_result"
    }
   ],
   "source": [
    "#check for number of days less than 0\n",
    "df_clean[df_clean['waitingperiod'] < '0 days']"
   ]
  },
  {
   "cell_type": "markdown",
   "metadata": {},
   "source": [
    "number of rows that has \"waitingperiod\" < 0, are only 5, we can drop these data"
   ]
  },
  {
   "cell_type": "code",
   "execution_count": 200,
   "metadata": {},
   "outputs": [
    {
     "data": {
      "text/html": [
       "<div>\n",
       "<style scoped>\n",
       "    .dataframe tbody tr th:only-of-type {\n",
       "        vertical-align: middle;\n",
       "    }\n",
       "\n",
       "    .dataframe tbody tr th {\n",
       "        vertical-align: top;\n",
       "    }\n",
       "\n",
       "    .dataframe thead th {\n",
       "        text-align: right;\n",
       "    }\n",
       "</style>\n",
       "<table border=\"1\" class=\"dataframe\">\n",
       "  <thead>\n",
       "    <tr style=\"text-align: right;\">\n",
       "      <th></th>\n",
       "      <th>PatientId</th>\n",
       "      <th>AppointmentID</th>\n",
       "      <th>Gender</th>\n",
       "      <th>ScheduledDay</th>\n",
       "      <th>AppointmentDay</th>\n",
       "      <th>Age</th>\n",
       "      <th>Neighbourhood</th>\n",
       "      <th>Scholarship</th>\n",
       "      <th>Hypertension</th>\n",
       "      <th>Diabetes</th>\n",
       "      <th>Alcoholism</th>\n",
       "      <th>Handicap</th>\n",
       "      <th>SMS_received</th>\n",
       "      <th>Attendance</th>\n",
       "      <th>waitingperiod</th>\n",
       "    </tr>\n",
       "  </thead>\n",
       "  <tbody>\n",
       "  </tbody>\n",
       "</table>\n",
       "</div>"
      ],
      "text/plain": [
       "Empty DataFrame\n",
       "Columns: [PatientId, AppointmentID, Gender, ScheduledDay, AppointmentDay, Age, Neighbourhood, Scholarship, Hypertension, Diabetes, Alcoholism, Handicap, SMS_received, Attendance, waitingperiod]\n",
       "Index: []"
      ]
     },
     "execution_count": 200,
     "metadata": {},
     "output_type": "execute_result"
    }
   ],
   "source": [
    "df_clean.drop(df_clean[df_clean['waitingperiod'] < '0 days'].index, inplace = True)\n",
    "\n",
    "#check for number of days less than 0\n",
    "df_clean[df_clean['waitingperiod'] < '0 days']"
   ]
  },
  {
   "cell_type": "code",
   "execution_count": 201,
   "metadata": {},
   "outputs": [
    {
     "name": "stdout",
     "output_type": "stream",
     "text": [
      "<class 'pandas.core.frame.DataFrame'>\n",
      "Int64Index: 110522 entries, 0 to 110526\n",
      "Data columns (total 15 columns):\n",
      " #   Column          Non-Null Count   Dtype         \n",
      "---  ------          --------------   -----         \n",
      " 0   PatientId       110522 non-null  object        \n",
      " 1   AppointmentID   110522 non-null  object        \n",
      " 2   Gender          110522 non-null  object        \n",
      " 3   ScheduledDay    110522 non-null  datetime64[ns]\n",
      " 4   AppointmentDay  110522 non-null  datetime64[ns]\n",
      " 5   Age             110522 non-null  int64         \n",
      " 6   Neighbourhood   110522 non-null  object        \n",
      " 7   Scholarship     110522 non-null  int64         \n",
      " 8   Hypertension    110522 non-null  int64         \n",
      " 9   Diabetes        110522 non-null  int64         \n",
      " 10  Alcoholism      110522 non-null  int64         \n",
      " 11  Handicap        110522 non-null  int64         \n",
      " 12  SMS_received    110522 non-null  int64         \n",
      " 13  Attendance      110522 non-null  object        \n",
      " 14  waitingperiod   110522 non-null  object        \n",
      "dtypes: datetime64[ns](2), int64(7), object(6)\n",
      "memory usage: 13.5+ MB\n"
     ]
    }
   ],
   "source": [
    "# check the dataframe\n",
    "df_clean.info()"
   ]
  },
  {
   "cell_type": "markdown",
   "metadata": {},
   "source": [
    "#### Fix age column by removing the negative values, and check if we need to remove te outliers"
   ]
  },
  {
   "cell_type": "code",
   "execution_count": 202,
   "metadata": {},
   "outputs": [
    {
     "data": {
      "text/html": [
       "<div>\n",
       "<style scoped>\n",
       "    .dataframe tbody tr th:only-of-type {\n",
       "        vertical-align: middle;\n",
       "    }\n",
       "\n",
       "    .dataframe tbody tr th {\n",
       "        vertical-align: top;\n",
       "    }\n",
       "\n",
       "    .dataframe thead th {\n",
       "        text-align: right;\n",
       "    }\n",
       "</style>\n",
       "<table border=\"1\" class=\"dataframe\">\n",
       "  <thead>\n",
       "    <tr style=\"text-align: right;\">\n",
       "      <th></th>\n",
       "      <th>PatientId</th>\n",
       "      <th>AppointmentID</th>\n",
       "      <th>Gender</th>\n",
       "      <th>ScheduledDay</th>\n",
       "      <th>AppointmentDay</th>\n",
       "      <th>Age</th>\n",
       "      <th>Neighbourhood</th>\n",
       "      <th>Scholarship</th>\n",
       "      <th>Hypertension</th>\n",
       "      <th>Diabetes</th>\n",
       "      <th>Alcoholism</th>\n",
       "      <th>Handicap</th>\n",
       "      <th>SMS_received</th>\n",
       "      <th>Attendance</th>\n",
       "      <th>waitingperiod</th>\n",
       "    </tr>\n",
       "  </thead>\n",
       "  <tbody>\n",
       "    <tr>\n",
       "      <th>99832</th>\n",
       "      <td>465943158731293</td>\n",
       "      <td>5775010</td>\n",
       "      <td>F</td>\n",
       "      <td>2016-06-06</td>\n",
       "      <td>2016-06-06</td>\n",
       "      <td>-1</td>\n",
       "      <td>ROMÃO</td>\n",
       "      <td>0</td>\n",
       "      <td>0</td>\n",
       "      <td>0</td>\n",
       "      <td>0</td>\n",
       "      <td>0</td>\n",
       "      <td>0</td>\n",
       "      <td>No</td>\n",
       "      <td>0 days</td>\n",
       "    </tr>\n",
       "  </tbody>\n",
       "</table>\n",
       "</div>"
      ],
      "text/plain": [
       "             PatientId AppointmentID Gender ScheduledDay AppointmentDay  Age  \\\n",
       "99832  465943158731293       5775010      F   2016-06-06     2016-06-06   -1   \n",
       "\n",
       "      Neighbourhood  Scholarship  Hypertension  Diabetes  Alcoholism  \\\n",
       "99832         ROMÃO            0             0         0           0   \n",
       "\n",
       "       Handicap  SMS_received Attendance waitingperiod  \n",
       "99832         0             0         No        0 days  "
      ]
     },
     "execution_count": 202,
     "metadata": {},
     "output_type": "execute_result"
    }
   ],
   "source": [
    "#check for Ages less than 0 \n",
    "df_clean[df_clean['Age'] <0]"
   ]
  },
  {
   "cell_type": "code",
   "execution_count": 203,
   "metadata": {},
   "outputs": [],
   "source": [
    "# Drop the row\n",
    "df_clean = df_clean[(df_clean.Age >= 0)]"
   ]
  },
  {
   "cell_type": "code",
   "execution_count": 204,
   "metadata": {},
   "outputs": [
    {
     "data": {
      "text/html": [
       "<div>\n",
       "<style scoped>\n",
       "    .dataframe tbody tr th:only-of-type {\n",
       "        vertical-align: middle;\n",
       "    }\n",
       "\n",
       "    .dataframe tbody tr th {\n",
       "        vertical-align: top;\n",
       "    }\n",
       "\n",
       "    .dataframe thead th {\n",
       "        text-align: right;\n",
       "    }\n",
       "</style>\n",
       "<table border=\"1\" class=\"dataframe\">\n",
       "  <thead>\n",
       "    <tr style=\"text-align: right;\">\n",
       "      <th></th>\n",
       "      <th>PatientId</th>\n",
       "      <th>AppointmentID</th>\n",
       "      <th>Gender</th>\n",
       "      <th>ScheduledDay</th>\n",
       "      <th>AppointmentDay</th>\n",
       "      <th>Age</th>\n",
       "      <th>Neighbourhood</th>\n",
       "      <th>Scholarship</th>\n",
       "      <th>Hypertension</th>\n",
       "      <th>Diabetes</th>\n",
       "      <th>Alcoholism</th>\n",
       "      <th>Handicap</th>\n",
       "      <th>SMS_received</th>\n",
       "      <th>Attendance</th>\n",
       "      <th>waitingperiod</th>\n",
       "    </tr>\n",
       "  </thead>\n",
       "  <tbody>\n",
       "    <tr>\n",
       "      <th>58014</th>\n",
       "      <td>976294799775439</td>\n",
       "      <td>5651757</td>\n",
       "      <td>F</td>\n",
       "      <td>2016-05-03</td>\n",
       "      <td>2016-05-03</td>\n",
       "      <td>102</td>\n",
       "      <td>CONQUISTA</td>\n",
       "      <td>0</td>\n",
       "      <td>0</td>\n",
       "      <td>0</td>\n",
       "      <td>0</td>\n",
       "      <td>0</td>\n",
       "      <td>0</td>\n",
       "      <td>No</td>\n",
       "      <td>0 days</td>\n",
       "    </tr>\n",
       "    <tr>\n",
       "      <th>63912</th>\n",
       "      <td>31963211613981</td>\n",
       "      <td>5700278</td>\n",
       "      <td>F</td>\n",
       "      <td>2016-05-16</td>\n",
       "      <td>2016-05-19</td>\n",
       "      <td>115</td>\n",
       "      <td>ANDORINHAS</td>\n",
       "      <td>0</td>\n",
       "      <td>0</td>\n",
       "      <td>0</td>\n",
       "      <td>0</td>\n",
       "      <td>1</td>\n",
       "      <td>0</td>\n",
       "      <td>Yes</td>\n",
       "      <td>3 days</td>\n",
       "    </tr>\n",
       "    <tr>\n",
       "      <th>63915</th>\n",
       "      <td>31963211613981</td>\n",
       "      <td>5700279</td>\n",
       "      <td>F</td>\n",
       "      <td>2016-05-16</td>\n",
       "      <td>2016-05-19</td>\n",
       "      <td>115</td>\n",
       "      <td>ANDORINHAS</td>\n",
       "      <td>0</td>\n",
       "      <td>0</td>\n",
       "      <td>0</td>\n",
       "      <td>0</td>\n",
       "      <td>1</td>\n",
       "      <td>0</td>\n",
       "      <td>Yes</td>\n",
       "      <td>3 days</td>\n",
       "    </tr>\n",
       "    <tr>\n",
       "      <th>68127</th>\n",
       "      <td>31963211613981</td>\n",
       "      <td>5562812</td>\n",
       "      <td>F</td>\n",
       "      <td>2016-04-08</td>\n",
       "      <td>2016-05-16</td>\n",
       "      <td>115</td>\n",
       "      <td>ANDORINHAS</td>\n",
       "      <td>0</td>\n",
       "      <td>0</td>\n",
       "      <td>0</td>\n",
       "      <td>0</td>\n",
       "      <td>1</td>\n",
       "      <td>0</td>\n",
       "      <td>Yes</td>\n",
       "      <td>38 days</td>\n",
       "    </tr>\n",
       "    <tr>\n",
       "      <th>76284</th>\n",
       "      <td>31963211613981</td>\n",
       "      <td>5744037</td>\n",
       "      <td>F</td>\n",
       "      <td>2016-05-30</td>\n",
       "      <td>2016-05-30</td>\n",
       "      <td>115</td>\n",
       "      <td>ANDORINHAS</td>\n",
       "      <td>0</td>\n",
       "      <td>0</td>\n",
       "      <td>0</td>\n",
       "      <td>0</td>\n",
       "      <td>1</td>\n",
       "      <td>0</td>\n",
       "      <td>No</td>\n",
       "      <td>0 days</td>\n",
       "    </tr>\n",
       "    <tr>\n",
       "      <th>90372</th>\n",
       "      <td>234283596548</td>\n",
       "      <td>5751563</td>\n",
       "      <td>F</td>\n",
       "      <td>2016-05-31</td>\n",
       "      <td>2016-06-02</td>\n",
       "      <td>102</td>\n",
       "      <td>MARIA ORTIZ</td>\n",
       "      <td>0</td>\n",
       "      <td>0</td>\n",
       "      <td>0</td>\n",
       "      <td>0</td>\n",
       "      <td>0</td>\n",
       "      <td>0</td>\n",
       "      <td>No</td>\n",
       "      <td>2 days</td>\n",
       "    </tr>\n",
       "    <tr>\n",
       "      <th>97666</th>\n",
       "      <td>748234579244724</td>\n",
       "      <td>5717451</td>\n",
       "      <td>F</td>\n",
       "      <td>2016-05-19</td>\n",
       "      <td>2016-06-03</td>\n",
       "      <td>115</td>\n",
       "      <td>SÃO JOSÉ</td>\n",
       "      <td>0</td>\n",
       "      <td>1</td>\n",
       "      <td>0</td>\n",
       "      <td>0</td>\n",
       "      <td>0</td>\n",
       "      <td>1</td>\n",
       "      <td>No</td>\n",
       "      <td>15 days</td>\n",
       "    </tr>\n",
       "  </tbody>\n",
       "</table>\n",
       "</div>"
      ],
      "text/plain": [
       "             PatientId AppointmentID Gender ScheduledDay AppointmentDay  Age  \\\n",
       "58014  976294799775439       5651757      F   2016-05-03     2016-05-03  102   \n",
       "63912   31963211613981       5700278      F   2016-05-16     2016-05-19  115   \n",
       "63915   31963211613981       5700279      F   2016-05-16     2016-05-19  115   \n",
       "68127   31963211613981       5562812      F   2016-04-08     2016-05-16  115   \n",
       "76284   31963211613981       5744037      F   2016-05-30     2016-05-30  115   \n",
       "90372     234283596548       5751563      F   2016-05-31     2016-06-02  102   \n",
       "97666  748234579244724       5717451      F   2016-05-19     2016-06-03  115   \n",
       "\n",
       "      Neighbourhood  Scholarship  Hypertension  Diabetes  Alcoholism  \\\n",
       "58014     CONQUISTA            0             0         0           0   \n",
       "63912    ANDORINHAS            0             0         0           0   \n",
       "63915    ANDORINHAS            0             0         0           0   \n",
       "68127    ANDORINHAS            0             0         0           0   \n",
       "76284    ANDORINHAS            0             0         0           0   \n",
       "90372   MARIA ORTIZ            0             0         0           0   \n",
       "97666      SÃO JOSÉ            0             1         0           0   \n",
       "\n",
       "       Handicap  SMS_received Attendance waitingperiod  \n",
       "58014         0             0         No        0 days  \n",
       "63912         1             0        Yes        3 days  \n",
       "63915         1             0        Yes        3 days  \n",
       "68127         1             0        Yes       38 days  \n",
       "76284         1             0         No        0 days  \n",
       "90372         0             0         No        2 days  \n",
       "97666         0             1         No       15 days  "
      ]
     },
     "execution_count": 204,
     "metadata": {},
     "output_type": "execute_result"
    }
   ],
   "source": [
    "# check the outliers in age\n",
    "df_clean[df_clean['Age'] >100]"
   ]
  },
  {
   "cell_type": "markdown",
   "metadata": {},
   "source": [
    "> - There are outliers in ages above 100, after checking the data no need to drop all of them as most patients has showed for the appointments \n",
    "> - The no show data is for the same PatientId with different AppoinmentID, however 2 Appointments are scheduled on the same day and not showed, it could be wrong or duplicated entry , so we can remove it"
   ]
  },
  {
   "cell_type": "code",
   "execution_count": 205,
   "metadata": {},
   "outputs": [],
   "source": [
    "# drop the duplicated entry row #63915\n",
    "df_clean = df_clean.drop([63915])"
   ]
  },
  {
   "cell_type": "code",
   "execution_count": 206,
   "metadata": {},
   "outputs": [
    {
     "name": "stdout",
     "output_type": "stream",
     "text": [
      "<class 'pandas.core.frame.DataFrame'>\n",
      "Int64Index: 110520 entries, 0 to 110526\n",
      "Data columns (total 15 columns):\n",
      " #   Column          Non-Null Count   Dtype         \n",
      "---  ------          --------------   -----         \n",
      " 0   PatientId       110520 non-null  object        \n",
      " 1   AppointmentID   110520 non-null  object        \n",
      " 2   Gender          110520 non-null  object        \n",
      " 3   ScheduledDay    110520 non-null  datetime64[ns]\n",
      " 4   AppointmentDay  110520 non-null  datetime64[ns]\n",
      " 5   Age             110520 non-null  int64         \n",
      " 6   Neighbourhood   110520 non-null  object        \n",
      " 7   Scholarship     110520 non-null  int64         \n",
      " 8   Hypertension    110520 non-null  int64         \n",
      " 9   Diabetes        110520 non-null  int64         \n",
      " 10  Alcoholism      110520 non-null  int64         \n",
      " 11  Handicap        110520 non-null  int64         \n",
      " 12  SMS_received    110520 non-null  int64         \n",
      " 13  Attendance      110520 non-null  object        \n",
      " 14  waitingperiod   110520 non-null  object        \n",
      "dtypes: datetime64[ns](2), int64(7), object(6)\n",
      "memory usage: 13.5+ MB\n"
     ]
    }
   ],
   "source": [
    "# test Data fram 2 rows should be removed\n",
    "df_clean.info()"
   ]
  },
  {
   "cell_type": "markdown",
   "metadata": {},
   "source": [
    "#### Fix the Gender, Scholarship, Hypertension ,  Diabetes , Alcoholism ,  Handicap  , SMS_received and Attendance  columns for better understanding"
   ]
  },
  {
   "cell_type": "markdown",
   "metadata": {},
   "source": [
    "- We will start first with Hypertension , Diabetes , Alcoholism & SMS_received , as they have only 0 & 1 values in thier data"
   ]
  },
  {
   "cell_type": "code",
   "execution_count": 207,
   "metadata": {},
   "outputs": [
    {
     "name": "stdout",
     "output_type": "stream",
     "text": [
      "The number of (0) in column Scholarship is  99659 \n",
      "The number of (1) in column Scholarship is  10861 \n",
      "\n",
      "The number of (0) in column Hypertension is  88719 \n",
      "The number of (1) in column Hypertension is  21801 \n",
      "\n",
      "The number of (0) in column Diabetes is  102577 \n",
      "The number of (1) in column Diabetes is  7943 \n",
      "\n",
      "The number of (0) in column Alcoholism is  107160 \n",
      "The number of (1) in column Alcoholism is  3360 \n",
      "\n",
      "The number of (0) in column SMS_received is  75038 \n",
      "The number of (1) in column SMS_received is  35482 \n",
      "\n"
     ]
    }
   ],
   "source": [
    "# check for number of values in each one\n",
    "cols = [\"Scholarship\",\"Hypertension\" , \"Diabetes\" , \"Alcoholism\" , \"SMS_received\"]\n",
    "for i in cols:\n",
    "    count_of_0 = (df_clean[i] == 0).sum()\n",
    "    count_of_1 = (df_clean[i] == 1).sum()\n",
    "    print ('The number of (0) in column {} is '.format(i), count_of_0,\"\\n\"\n",
    "             'The number of (1) in column {} is '.format(i), count_of_1, \"\\n\")"
   ]
  },
  {
   "cell_type": "code",
   "execution_count": 208,
   "metadata": {},
   "outputs": [],
   "source": [
    "#function to convert the 0 to \"No\" and 1 to \"Yes\"\n",
    "def change_values (df_clean, category):\n",
    "    df_clean[category] = (df_clean[category].map({0: 'No', 1: 'Yes'})).astype('category') \n",
    "    return category"
   ]
  },
  {
   "cell_type": "code",
   "execution_count": 209,
   "metadata": {},
   "outputs": [
    {
     "name": "stdout",
     "output_type": "stream",
     "text": [
      "The number of (No) in column Scholarship is  99659 \n",
      "The number of (Yes) in column Scholarship is  10861 \n",
      "\n",
      "The number of (No) in column Hypertension is  88719 \n",
      "The number of (Yes) in column Hypertension is  21801 \n",
      "\n",
      "The number of (No) in column Diabetes is  102577 \n",
      "The number of (Yes) in column Diabetes is  7943 \n",
      "\n",
      "The number of (No) in column Alcoholism is  107160 \n",
      "The number of (Yes) in column Alcoholism is  3360 \n",
      "\n",
      "The number of (No) in column SMS_received is  75038 \n",
      "The number of (Yes) in column SMS_received is  35482 \n",
      "\n"
     ]
    }
   ],
   "source": [
    "# apply the function to the list of columns needed to change\n",
    "for i in cols:\n",
    "    updates = change_values (df_clean , i)\n",
    "    # Test for number of values in each one to compare it whith previous values\n",
    "    count_of_no = (df_clean[i] == \"No\").sum() \n",
    "    count_of_yes = (df_clean[i] == \"Yes\").sum()\n",
    "    print ('The number of (No) in column {} is '.format(i), count_of_no,\"\\n\"\n",
    "             'The number of (Yes) in column {} is '.format(i), count_of_yes, \"\\n\")"
   ]
  },
  {
   "cell_type": "markdown",
   "metadata": {},
   "source": [
    " - Convert the values in Attendance from \"No\" to \"show\" and  from \"yes\" to \"no_show\" for better understanding\n",
    " - Convert \"Gender\" & \"No_show\"  column type to 'category'"
   ]
  },
  {
   "cell_type": "code",
   "execution_count": 210,
   "metadata": {},
   "outputs": [],
   "source": [
    "# Fix Attendance columns\n",
    "df_clean[\"Attendance\"] = (df_clean[\"Attendance\"].map({'No': \"show\", 'Yes': \"no_show\"})).astype('category')"
   ]
  },
  {
   "cell_type": "code",
   "execution_count": 211,
   "metadata": {},
   "outputs": [],
   "source": [
    "# Fix Gendercolumns\n",
    "df_clean[\"Gender\"] = df_clean[\"Gender\"].astype('category')\n"
   ]
  },
  {
   "cell_type": "markdown",
   "metadata": {},
   "source": [
    "Rename Handicap values to a meaningful names and change its type to category"
   ]
  },
  {
   "cell_type": "code",
   "execution_count": 212,
   "metadata": {},
   "outputs": [
    {
     "name": "stdout",
     "output_type": "stream",
     "text": [
      "count_0 =  108282 count_1 =  2039 count_2 =  183 count_3 =  13 count_4 =  3\n"
     ]
    }
   ],
   "source": [
    "#check on the values before changes\n",
    "print ( \"count_0 = \", (df_clean['Handicap'] == 0).sum(),\n",
    "        \"count_1 = \", (df_clean['Handicap'] == 1).sum(),\n",
    "        \"count_2 = \",  (df_clean['Handicap'] == 2).sum(),\n",
    "        \"count_3 = \",  (df_clean['Handicap'] == 3).sum(),\n",
    "        \"count_4 = \",  (df_clean['Handicap'] == 4).sum())"
   ]
  },
  {
   "cell_type": "code",
   "execution_count": 213,
   "metadata": {},
   "outputs": [
    {
     "name": "stdout",
     "output_type": "stream",
     "text": [
      "count_0 =  108282 count_1 =  2039 count_2 =  183 count_3 =  13 count_4 =  3\n"
     ]
    }
   ],
   "source": [
    "# rename values and change type\n",
    "df_clean['Handicap'] = (df_clean['Handicap'].map({0: \"No disability \", 1: \"1 disabilities\"  ,2: \"2 disabilities\", 3: \"3 disabilities\", 4: \"4 disabilities\" })).astype('category')\n",
    "\n",
    "\n",
    "#check on the values before changes\n",
    "print ( \"count_0 = \", (df_clean['Handicap'] == \"No disability \").sum(),\n",
    "        \"count_1 = \", (df_clean['Handicap'] == \"1 disabilities\" ).sum(),\n",
    "        \"count_2 = \",  (df_clean['Handicap'] == \"2 disabilities\").sum(),\n",
    "        \"count_3 = \",  (df_clean['Handicap'] == \"3 disabilities\").sum(),\n",
    "        \"count_4 = \",  (df_clean['Handicap'] == \"4 disabilities\").sum())"
   ]
  },
  {
   "cell_type": "code",
   "execution_count": 214,
   "metadata": {},
   "outputs": [
    {
     "name": "stdout",
     "output_type": "stream",
     "text": [
      "<class 'pandas.core.frame.DataFrame'>\n",
      "Int64Index: 110520 entries, 0 to 110526\n",
      "Data columns (total 15 columns):\n",
      " #   Column          Non-Null Count   Dtype         \n",
      "---  ------          --------------   -----         \n",
      " 0   PatientId       110520 non-null  object        \n",
      " 1   AppointmentID   110520 non-null  object        \n",
      " 2   Gender          110520 non-null  category      \n",
      " 3   ScheduledDay    110520 non-null  datetime64[ns]\n",
      " 4   AppointmentDay  110520 non-null  datetime64[ns]\n",
      " 5   Age             110520 non-null  int64         \n",
      " 6   Neighbourhood   110520 non-null  object        \n",
      " 7   Scholarship     110520 non-null  category      \n",
      " 8   Hypertension    110520 non-null  category      \n",
      " 9   Diabetes        110520 non-null  category      \n",
      " 10  Alcoholism      110520 non-null  category      \n",
      " 11  Handicap        110520 non-null  category      \n",
      " 12  SMS_received    110520 non-null  category      \n",
      " 13  Attendance      110520 non-null  category      \n",
      " 14  waitingperiod   110520 non-null  object        \n",
      "dtypes: category(8), datetime64[ns](2), int64(1), object(4)\n",
      "memory usage: 7.6+ MB\n"
     ]
    }
   ],
   "source": [
    "#test changes\n",
    "df_clean.info()"
   ]
  },
  {
   "cell_type": "code",
   "execution_count": 215,
   "metadata": {},
   "outputs": [
    {
     "data": {
      "text/html": [
       "<div>\n",
       "<style scoped>\n",
       "    .dataframe tbody tr th:only-of-type {\n",
       "        vertical-align: middle;\n",
       "    }\n",
       "\n",
       "    .dataframe tbody tr th {\n",
       "        vertical-align: top;\n",
       "    }\n",
       "\n",
       "    .dataframe thead th {\n",
       "        text-align: right;\n",
       "    }\n",
       "</style>\n",
       "<table border=\"1\" class=\"dataframe\">\n",
       "  <thead>\n",
       "    <tr style=\"text-align: right;\">\n",
       "      <th></th>\n",
       "      <th>PatientId</th>\n",
       "      <th>AppointmentID</th>\n",
       "      <th>Gender</th>\n",
       "      <th>ScheduledDay</th>\n",
       "      <th>AppointmentDay</th>\n",
       "      <th>Age</th>\n",
       "      <th>Neighbourhood</th>\n",
       "      <th>Scholarship</th>\n",
       "      <th>Hypertension</th>\n",
       "      <th>Diabetes</th>\n",
       "      <th>Alcoholism</th>\n",
       "      <th>Handicap</th>\n",
       "      <th>SMS_received</th>\n",
       "      <th>Attendance</th>\n",
       "      <th>waitingperiod</th>\n",
       "    </tr>\n",
       "  </thead>\n",
       "  <tbody>\n",
       "    <tr>\n",
       "      <th>79436</th>\n",
       "      <td>6726454752686</td>\n",
       "      <td>5675426</td>\n",
       "      <td>M</td>\n",
       "      <td>2016-05-09</td>\n",
       "      <td>2016-05-12</td>\n",
       "      <td>0</td>\n",
       "      <td>ILHA DAS CAIEIRAS</td>\n",
       "      <td>No</td>\n",
       "      <td>No</td>\n",
       "      <td>No</td>\n",
       "      <td>No</td>\n",
       "      <td>No disability</td>\n",
       "      <td>No</td>\n",
       "      <td>show</td>\n",
       "      <td>3 days</td>\n",
       "    </tr>\n",
       "    <tr>\n",
       "      <th>107782</th>\n",
       "      <td>1574579287766</td>\n",
       "      <td>5772170</td>\n",
       "      <td>M</td>\n",
       "      <td>2016-06-03</td>\n",
       "      <td>2016-06-03</td>\n",
       "      <td>59</td>\n",
       "      <td>NAZARETH</td>\n",
       "      <td>No</td>\n",
       "      <td>No</td>\n",
       "      <td>No</td>\n",
       "      <td>No</td>\n",
       "      <td>No disability</td>\n",
       "      <td>No</td>\n",
       "      <td>show</td>\n",
       "      <td>0 days</td>\n",
       "    </tr>\n",
       "    <tr>\n",
       "      <th>75255</th>\n",
       "      <td>58623823676953</td>\n",
       "      <td>5656659</td>\n",
       "      <td>F</td>\n",
       "      <td>2016-05-04</td>\n",
       "      <td>2016-05-04</td>\n",
       "      <td>58</td>\n",
       "      <td>NOVA PALESTINA</td>\n",
       "      <td>No</td>\n",
       "      <td>Yes</td>\n",
       "      <td>Yes</td>\n",
       "      <td>No</td>\n",
       "      <td>No disability</td>\n",
       "      <td>No</td>\n",
       "      <td>show</td>\n",
       "      <td>0 days</td>\n",
       "    </tr>\n",
       "    <tr>\n",
       "      <th>21920</th>\n",
       "      <td>4176778783932</td>\n",
       "      <td>5682729</td>\n",
       "      <td>F</td>\n",
       "      <td>2016-05-10</td>\n",
       "      <td>2016-05-18</td>\n",
       "      <td>60</td>\n",
       "      <td>GRANDE VITÓRIA</td>\n",
       "      <td>No</td>\n",
       "      <td>Yes</td>\n",
       "      <td>Yes</td>\n",
       "      <td>No</td>\n",
       "      <td>No disability</td>\n",
       "      <td>No</td>\n",
       "      <td>no_show</td>\n",
       "      <td>8 days</td>\n",
       "    </tr>\n",
       "    <tr>\n",
       "      <th>35803</th>\n",
       "      <td>6617231511232</td>\n",
       "      <td>5634857</td>\n",
       "      <td>F</td>\n",
       "      <td>2016-04-28</td>\n",
       "      <td>2016-05-05</td>\n",
       "      <td>6</td>\n",
       "      <td>DA PENHA</td>\n",
       "      <td>Yes</td>\n",
       "      <td>No</td>\n",
       "      <td>No</td>\n",
       "      <td>No</td>\n",
       "      <td>No disability</td>\n",
       "      <td>No</td>\n",
       "      <td>show</td>\n",
       "      <td>7 days</td>\n",
       "    </tr>\n",
       "  </tbody>\n",
       "</table>\n",
       "</div>"
      ],
      "text/plain": [
       "             PatientId AppointmentID Gender ScheduledDay AppointmentDay  Age  \\\n",
       "79436    6726454752686       5675426      M   2016-05-09     2016-05-12    0   \n",
       "107782   1574579287766       5772170      M   2016-06-03     2016-06-03   59   \n",
       "75255   58623823676953       5656659      F   2016-05-04     2016-05-04   58   \n",
       "21920    4176778783932       5682729      F   2016-05-10     2016-05-18   60   \n",
       "35803    6617231511232       5634857      F   2016-04-28     2016-05-05    6   \n",
       "\n",
       "            Neighbourhood Scholarship Hypertension Diabetes Alcoholism  \\\n",
       "79436   ILHA DAS CAIEIRAS          No           No       No         No   \n",
       "107782           NAZARETH          No           No       No         No   \n",
       "75255      NOVA PALESTINA          No          Yes      Yes         No   \n",
       "21920      GRANDE VITÓRIA          No          Yes      Yes         No   \n",
       "35803            DA PENHA         Yes           No       No         No   \n",
       "\n",
       "              Handicap SMS_received Attendance waitingperiod  \n",
       "79436   No disability            No       show        3 days  \n",
       "107782  No disability            No       show        0 days  \n",
       "75255   No disability            No       show        0 days  \n",
       "21920   No disability            No    no_show        8 days  \n",
       "35803   No disability            No       show        7 days  "
      ]
     },
     "execution_count": 215,
     "metadata": {},
     "output_type": "execute_result"
    }
   ],
   "source": [
    "df_clean.sample(5)"
   ]
  },
  {
   "cell_type": "markdown",
   "metadata": {},
   "source": [
    "#### Save cleaned data in a new csv file"
   ]
  },
  {
   "cell_type": "code",
   "execution_count": 216,
   "metadata": {},
   "outputs": [],
   "source": [
    "df_clean.to_csv('clean_dataset.csv')"
   ]
  },
  {
   "cell_type": "markdown",
   "metadata": {},
   "source": [
    "<a id='eda'></a>\n",
    "## Exploratory Data Analysis\n",
    "\n",
    "> Now we will start Exploring and answering the questions that were posed at the begaining.\n",
    "\n",
    "> - Lets revisit the questions again.\n",
    "\n",
    "#### Questions \n",
    "\n",
    " - What is the percentage of patients who show up vs. who don't?\n",
    " - Is the Attendance influenced by gender?\n",
    " - Does Age influence Attendance?\n",
    " - Is the Attendance affected by a patient who is diagnosed with Diabetes, Hypertension, Alcoholism, or if a patient has a scholarship?\n",
    " - Does receiving the SMS influence showing up?\n",
    " - Is the Attendance affected by the severity of the Handicap?\n",
    "---\n"
   ]
  },
  {
   "cell_type": "markdown",
   "metadata": {},
   "source": [
    "### Question 1 : What is the percentage of patients who show up vs. who don't?"
   ]
  },
  {
   "cell_type": "markdown",
   "metadata": {},
   "source": [
    " * check overall Attendance"
   ]
  },
  {
   "cell_type": "code",
   "execution_count": 217,
   "metadata": {},
   "outputs": [
    {
     "data": {
      "text/plain": [
       "show       88207\n",
       "no_show    22313\n",
       "Name: Attendance, dtype: int64"
      ]
     },
     "execution_count": 217,
     "metadata": {},
     "output_type": "execute_result"
    }
   ],
   "source": [
    "# check the value count of all attendance\n",
    "df_clean[\"Attendance\"].value_counts()"
   ]
  },
  {
   "cell_type": "code",
   "execution_count": 218,
   "metadata": {},
   "outputs": [
    {
     "data": {
      "image/png": "[encoded data removed]",
      "text/plain": [
       "<Figure size 576x576 with 1 Axes>"
      ]
     },
     "metadata": {},
     "output_type": "display_data"
    }
   ],
   "source": [
    "#represet the attendance percentage with pie chart\n",
    "plt.title (\"(%) of Show vs No show for the Appointments\", fontsize=20)\n",
    "df_clean[\"Attendance\"].value_counts().plot(figsize=(8,8),kind=\"pie\",autopct='%.2f', textprops={'fontsize': 18});"
   ]
  },
  {
   "cell_type": "markdown",
   "metadata": {},
   "source": [
    " > We notice that more patients are committed to showing up to the appointments, their percentage are 79,81%. while the percentage of the patients who didn't show is 20.19%"
   ]
  },
  {
   "cell_type": "markdown",
   "metadata": {},
   "source": [
    "----\n",
    "----\n",
    "### Question 2 : Is the Attendance influenced by gender?"
   ]
  },
  {
   "cell_type": "markdown",
   "metadata": {},
   "source": [
    "* check overall Appointmens made by gender"
   ]
  },
  {
   "cell_type": "code",
   "execution_count": 219,
   "metadata": {},
   "outputs": [
    {
     "data": {
      "image/png": "[encoded data removed]",
      "text/plain": [
       "<Figure size 576x576 with 1 Axes>"
      ]
     },
     "metadata": {},
     "output_type": "display_data"
    }
   ],
   "source": [
    "# #represet the percentage of each gender in making appointments with pie chart\n",
    "plt.title (\"(%) of Appointments for Males vs Females\", fontsize=20)\n",
    "df_clean[\"Gender\"].value_counts().plot(figsize=(8,8),kind=\"pie\",autopct='%.2f',textprops={'fontsize': 18});"
   ]
  },
  {
   "cell_type": "markdown",
   "metadata": {},
   "source": [
    "> More women make appointments than men represented by 65% of the total appointments while men are only 35%"
   ]
  },
  {
   "cell_type": "markdown",
   "metadata": {},
   "source": [
    "----\n",
    "* compare using bar chart"
   ]
  },
  {
   "cell_type": "code",
   "execution_count": 220,
   "metadata": {},
   "outputs": [
    {
     "data": {
      "image/png": "[encoded data removed]",
      "text/plain": [
       "<Figure size 432x288 with 1 Axes>"
      ]
     },
     "metadata": {
      "needs_background": "light"
     },
     "output_type": "display_data"
    }
   ],
   "source": [
    "ax = sns.countplot(x=df_clean.Gender, hue=df_clean.Attendance, data=df)\n",
    "ax.set_title(\"Show / No-Show for Gender\")\n",
    "x_ticks_labels=['Female', 'Male']\n",
    "plt.show();"
   ]
  },
  {
   "cell_type": "markdown",
   "metadata": {},
   "source": [
    "> - That was and overview comparison for the number of patients in terms of attendance, We notice that the number of Female patients is higher in both showing and not-showing, compared to the male patinents, which is understandable , due to higher number of appointments for the females as we have seen before.\n",
    "> - Next we will compare both of them using percantage and pie chart to show level of commitment"
   ]
  },
  {
   "cell_type": "markdown",
   "metadata": {},
   "source": [
    "----\n",
    "* compare between showing and not showing in terms of the Gender"
   ]
  },
  {
   "cell_type": "code",
   "execution_count": 221,
   "metadata": {},
   "outputs": [
    {
     "data": {
      "image/png": "[encoded data removed]",
      "text/plain": [
       "<Figure size 720x720 with 2 Axes>"
      ]
     },
     "metadata": {},
     "output_type": "display_data"
    }
   ],
   "source": [
    "fig, axs = plt.subplots(1,2)\n",
    "df_clean[df_clean[\"Attendance\"]==\"show\"].groupby(\"Gender\")[\"Attendance\"].count().plot(figsize=(10,10),kind=\"pie\",autopct='%.2f', ax=axs[0],colors=['lightblue','orange'],title=\"show\",textprops={'fontsize': 14});\n",
    "df_clean[df_clean[\"Attendance\"]==\"no_show\"].groupby(\"Gender\")[\"Attendance\"].count().plot(figsize=(10,10),kind=\"pie\",autopct='%.2f',ax=axs[1],colors=['lightblue','orange'],title=\"no_show\", textprops={'fontsize': 14});"
   ]
  },
  {
   "cell_type": "markdown",
   "metadata": {},
   "source": [
    " > - 64.90% of the patients who show for their appointments are females, while  males represents 35.5 % of showing.\n",
    " > - Also a high percentage for not showing is represented by females by 65.39% while males are 34.61%\n",
    " > - Like before when compare between showing and not showing for genders the percentage of Females is higher that males, due to higher number of appointments made by the  females. However the commitment for males are slightly higher, and it will be more clarified in the next chart"
   ]
  },
  {
   "cell_type": "markdown",
   "metadata": {},
   "source": [
    "----\n",
    "- compare between the the Genders in terms of the Attendance"
   ]
  },
  {
   "cell_type": "code",
   "execution_count": 222,
   "metadata": {},
   "outputs": [
    {
     "data": {
      "image/png": "[encoded data removed]",
      "text/plain": [
       "<Figure size 720x720 with 2 Axes>"
      ]
     },
     "metadata": {},
     "output_type": "display_data"
    }
   ],
   "source": [
    "fig, axs = plt.subplots(1,2)\n",
    "df_clean[df_clean[\"Gender\"]==\"M\"].groupby(\"Attendance\")[\"Gender\"].count().plot(figsize=(10,10),kind=\"pie\",autopct='%.2f', ax=axs[0],colors=['lightblue','orange'],title=\"Male\",textprops={'fontsize': 14});\n",
    "df_clean[df_clean[\"Gender\"]==\"F\"].groupby(\"Attendance\")[\"Gender\"].count().plot(figsize=(10,10),kind=\"pie\",autopct='%.2f',ax=axs[1],colors=['lightblue','orange'],title=\"Female\",textprops={'fontsize': 14});"
   ]
  },
  {
   "cell_type": "markdown",
   "metadata": {},
   "source": [
    "> - The percentage of showing for the males is 80.04% of the appointments and the no show is 19.96\n",
    "> - While the females have 79.69% of showing up and 20.31% of not showing\n",
    "> - Here we can clearly see that the percentage of Males commited to attend the appointment is slightly higher than the females by 0.35% "
   ]
  },
  {
   "cell_type": "markdown",
   "metadata": {},
   "source": [
    "----\n",
    "----\n",
    "### Question 3 : Does Age influence Attendance?"
   ]
  },
  {
   "cell_type": "markdown",
   "metadata": {},
   "source": [
    "* Show the all Number of appointments scheduled by age"
   ]
  },
  {
   "cell_type": "code",
   "execution_count": 223,
   "metadata": {},
   "outputs": [
    {
     "data": {
      "image/png": "[encoded data removed]",
      "text/plain": [
       "<Figure size 1440x576 with 1 Axes>"
      ]
     },
     "metadata": {
      "needs_background": "light"
     },
     "output_type": "display_data"
    }
   ],
   "source": [
    "# an overview look of number of patients of each age\n",
    "plt.figure(figsize=(20,8))\n",
    "plt.xticks(rotation=90)\n",
    "ax = sns.countplot(x=df_clean.Age)\n",
    "ax.set_title(\"Number of appointments scheduled by age\")\n",
    "plt.show()\n"
   ]
  },
  {
   "cell_type": "markdown",
   "metadata": {},
   "source": [
    "> - The above histogram shows higher appoinments for young patients aged from 0 to 1 \"the largest number of appointments\" , and a higher peak in appointments in older ages from 50 years old to 60 years old"
   ]
  },
  {
   "cell_type": "markdown",
   "metadata": {},
   "source": [
    " * Compare between show and no show patients in terms of age"
   ]
  },
  {
   "cell_type": "code",
   "execution_count": 224,
   "metadata": {},
   "outputs": [],
   "source": [
    "# make a show and no_show variables for easier analysis\n",
    "show = df_clean.Attendance == 'show'\n",
    "no_show = df_clean.Attendance == 'no_show'"
   ]
  },
  {
   "cell_type": "code",
   "execution_count": 225,
   "metadata": {},
   "outputs": [
    {
     "data": {
      "image/png": "[encoded data removed]",
      "text/plain": [
       "<Figure size 1152x1296 with 1 Axes>"
      ]
     },
     "metadata": {
      "needs_background": "light"
     },
     "output_type": "display_data"
    }
   ],
   "source": [
    "#creat a histograme showing both shows and no-shows by age\n",
    "df_clean.Age[show].hist(color='orange', label='Show',alpha=0.5, bins=20, figsize = (16,18));\n",
    "df_clean.Age[no_show].hist(color='blue', label='No_Show', alpha=0.6, bins=20, figsize = (16,18));\n",
    "plt.legend()\n",
    "plt.title('Age vs Attendance')\n",
    "plt.xlabel('Age');\n",
    "fig.set_size_inches(6,20)"
   ]
  },
  {
   "cell_type": "markdown",
   "metadata": {},
   "source": [
    "> This histogram shows us that  patients from ages 50 to 80 are more committed to attend their appointments."
   ]
  },
  {
   "cell_type": "markdown",
   "metadata": {},
   "source": [
    "----\n",
    "----\n",
    "### Question 4 : Is the Attendance affected by a patient who is diagnosed with Diabetes, Hypertension, Alcoholism, or by a patient who have a scholarship?"
   ]
  },
  {
   "cell_type": "markdown",
   "metadata": {},
   "source": [
    "* It will be easier to check the data if we created a function to avoid repetitive steps"
   ]
  },
  {
   "cell_type": "code",
   "execution_count": 226,
   "metadata": {},
   "outputs": [],
   "source": [
    "# creat a function to return a bar plot to compare Show vs No_Show for different aspects.\n",
    "def bar_plots(df_clean, category):\n",
    "    df_clean_category = pd.crosstab(df_clean[category], df_clean.Attendance, normalize = 'index')\n",
    "    df_clean_category = np.round((df_clean_category * 100), decimals=2)\n",
    "    ax = df_clean_category.plot.bar(figsize=(10,5));\n",
    "    ax.set_title('\\n Show vs No_Show in (%) (by {} )\\n'.format(df_clean_category.index.name), fontsize = 15)\n",
    "    ax.set_ylabel('(%)')\n",
    "    ax.legend(loc = 'upper left',bbox_to_anchor=(1.0,1.0), fontsize= 12)\n",
    "    rects = ax.patches\n",
    "    # add labels\n",
    "    for rect in rects:\n",
    "        height = rect.get_height()\n",
    "        ax.text(rect.get_x() + rect.get_width()/2, \n",
    "                height + 2, \n",
    "                str(height)+'%', \n",
    "                ha='center', \n",
    "                va='bottom',\n",
    "                fontsize = 12)\n",
    "    return df_clean_category"
   ]
  },
  {
   "cell_type": "code",
   "execution_count": 227,
   "metadata": {},
   "outputs": [
    {
     "data": {
      "image/png": "[encoded data removed]",
      "text/plain": [
       "<Figure size 720x360 with 1 Axes>"
      ]
     },
     "metadata": {
      "needs_background": "light"
     },
     "output_type": "display_data"
    },
    {
     "data": {
      "image/png": "[encoded data removed]",
      "text/plain": [
       "<Figure size 720x360 with 1 Axes>"
      ]
     },
     "metadata": {
      "needs_background": "light"
     },
     "output_type": "display_data"
    },
    {
     "data": {
      "image/png": "[encoded data removed]",
      "text/plain": [
       "<Figure size 720x360 with 1 Axes>"
      ]
     },
     "metadata": {
      "needs_background": "light"
     },
     "output_type": "display_data"
    },
    {
     "data": {
      "image/png": "[encoded data removed]",
      "text/plain": [
       "<Figure size 720x360 with 1 Axes>"
      ]
     },
     "metadata": {
      "needs_background": "light"
     },
     "output_type": "display_data"
    }
   ],
   "source": [
    "# use the function to make a comparison in terms of [\"Scholarship\",\"Hypertension\" , \"Diabetes\" , \"Alcoholism\" ]\n",
    "category_columns = [\"Scholarship\",\"Hypertension\" , \"Diabetes\" , \"Alcoholism\" ]\n",
    "for i in category_columns:\n",
    "    attendance =bar_plots(df_clean, i)\n",
    "    "
   ]
  },
  {
   "cell_type": "markdown",
   "metadata": {},
   "source": [
    "> - Patients who have Scholarship are less committed to to attend by 3.94‬ % compared to patients without scholarship\n",
    "> - Patients with Hypertension are more committed to attend by 3.6 %compared to patients without Hypertension\n",
    "> - Patients with Diabetes are more committed to attend by 2.36 %compared to patients without Diabetes\n",
    "> - The level of commitment for patients who whth Alcoholism and who don't are almost the same with different in percentage 0.04% towrads the patients with Alcoholism"
   ]
  },
  {
   "cell_type": "markdown",
   "metadata": {},
   "source": [
    "----\n",
    "----\n",
    "### Question 5 : Does recieving the SMS influence showing up?"
   ]
  },
  {
   "cell_type": "markdown",
   "metadata": {},
   "source": [
    "An overview look"
   ]
  },
  {
   "cell_type": "code",
   "execution_count": 228,
   "metadata": {},
   "outputs": [
    {
     "name": "stdout",
     "output_type": "stream",
     "text": [
      "SMS_received  Attendance\n",
      "No            show          62509\n",
      "              no_show       12529\n",
      "Yes           show          25698\n",
      "              no_show        9784\n",
      "Name: Attendance, dtype: int64\n"
     ]
    }
   ],
   "source": [
    "# cheching the behavior of attenance after reciving the sms vs not reciving the sms\n",
    "count = df_clean.groupby('SMS_received').Attendance.value_counts()\n",
    "print(count)"
   ]
  },
  {
   "cell_type": "code",
   "execution_count": 229,
   "metadata": {},
   "outputs": [
    {
     "data": {
      "image/png": "[encoded data removed]",
      "text/plain": [
       "<Figure size 432x432 with 1 Axes>"
      ]
     },
     "metadata": {},
     "output_type": "display_data"
    }
   ],
   "source": [
    "plt.title (\"(%) of Patients who recieved the SMS vs the who didn't recieve the SMS\", fontsize=18)\n",
    "df_clean['SMS_received'].value_counts().plot(figsize=(6,6),kind=\"pie\",autopct='%.2f', textprops={'fontsize': 14});"
   ]
  },
  {
   "cell_type": "markdown",
   "metadata": {},
   "source": [
    "- compare using a bar chart"
   ]
  },
  {
   "cell_type": "code",
   "execution_count": 230,
   "metadata": {},
   "outputs": [
    {
     "data": {
      "image/png": "[encoded data removed]",
      "text/plain": [
       "<Figure size 432x288 with 1 Axes>"
      ]
     },
     "metadata": {
      "needs_background": "light"
     },
     "output_type": "display_data"
    }
   ],
   "source": [
    "#patients who attended\n",
    "attended=df_clean.SMS_received[show].value_counts()\n",
    "\n",
    "#patients who didn't attend \n",
    "not_attended =df_clean.SMS_received[no_show].value_counts()\n",
    "\n",
    "# setting bars cords \n",
    "X = np.arange(len(attended))\n",
    "plt.bar(X, attended, width =0.25, color='lightblue' , label='show')\n",
    "plt.bar(X+0.25, not_attended, width =0.25, color='orange',label='no_show')\n",
    "locations=X+0.25\n",
    "plt.xticks(locations,labels=['No SMS received' ,' SMS received'])\n",
    "plt.legend()\n",
    "plt.xlabel('SMS')\n",
    "plt.title(\"No SMS received vs SMS received \");"
   ]
  },
  {
   "cell_type": "code",
   "execution_count": 231,
   "metadata": {},
   "outputs": [
    {
     "data": {
      "image/png": "[encoded data removed]",
      "text/plain": [
       "<Figure size 720x360 with 1 Axes>"
      ]
     },
     "metadata": {
      "needs_background": "light"
     },
     "output_type": "display_data"
    }
   ],
   "source": [
    "# check the precentage for showing vs no showing by sms recieved\n",
    "sms=bar_plots(df_clean, 'SMS_received')"
   ]
  },
  {
   "cell_type": "markdown",
   "metadata": {},
   "source": [
    "> - The total number of patients who didn't recieved the SMS is (75,038‬) which is significantly more than the patients who recieved the SMS which is (35,482) , That means that only 32.1% of the patient received the SMS\n",
    "> - When comparing the attendance more attendance found for the patient who didn't recieve the SMS by 10.87%"
   ]
  },
  {
   "cell_type": "markdown",
   "metadata": {},
   "source": [
    "----\n",
    "----\n",
    "### Question 6 : Is the Attendance affected by the severety of the Handicap?"
   ]
  },
  {
   "cell_type": "markdown",
   "metadata": {},
   "source": [
    "* check the Handicap severity influence on Attendance"
   ]
  },
  {
   "cell_type": "code",
   "execution_count": 232,
   "metadata": {},
   "outputs": [
    {
     "data": {
      "text/plain": [
       "Handicap        Attendance\n",
       "1 disabilities  no_show         363\n",
       "                show           1676\n",
       "2 disabilities  no_show          37\n",
       "                show            146\n",
       "3 disabilities  no_show           3\n",
       "                show             10\n",
       "4 disabilities  no_show           1\n",
       "                show              2\n",
       "No disability   no_show       21909\n",
       "                show          86373\n",
       "Name: AppointmentID, dtype: int64"
      ]
     },
     "execution_count": 232,
     "metadata": {},
     "output_type": "execute_result"
    }
   ],
   "source": [
    "# check the Handicap severity influence on Attendance\n",
    "# count of number of appointment for patients with Handicaps groupedby 'Handicap' & 'Attendance'\n",
    "handi_counts = df_clean.groupby(['Handicap', 'Attendance']).count()['AppointmentID']\n",
    "handi_counts"
   ]
  },
  {
   "cell_type": "code",
   "execution_count": 233,
   "metadata": {},
   "outputs": [
    {
     "data": {
      "text/plain": [
       "Handicap\n",
       "1 disabilities      2039\n",
       "2 disabilities       183\n",
       "3 disabilities        13\n",
       "4 disabilities         3\n",
       "No disability     108282\n",
       "Name: AppointmentID, dtype: int64"
      ]
     },
     "execution_count": 233,
     "metadata": {},
     "output_type": "execute_result"
    }
   ],
   "source": [
    "# count of total number of appointment for patients with Handicaps, showed by disabilities\n",
    "handi_totals = df_clean.groupby('Handicap').count()['AppointmentID']\n",
    "handi_totals"
   ]
  },
  {
   "cell_type": "code",
   "execution_count": 234,
   "metadata": {},
   "outputs": [
    {
     "data": {
      "text/plain": [
       "Handicap        Attendance\n",
       "1 disabilities  no_show       17.802845\n",
       "                show          82.197155\n",
       "2 disabilities  no_show       20.218579\n",
       "                show          79.781421\n",
       "3 disabilities  no_show       23.076923\n",
       "                show          76.923077\n",
       "4 disabilities  no_show       33.333333\n",
       "                show          66.666667\n",
       "No disability   no_show       20.233280\n",
       "                show          79.766720\n",
       "Name: AppointmentID, dtype: float64"
      ]
     },
     "execution_count": 234,
     "metadata": {},
     "output_type": "execute_result"
    }
   ],
   "source": [
    "# The percentage for each disability regarding Attendance\n",
    "handi_percentage = handi_counts / handi_totals *100\n",
    "handi_percentage"
   ]
  },
  {
   "cell_type": "code",
   "execution_count": 235,
   "metadata": {},
   "outputs": [
    {
     "data": {
      "image/png": "[encoded data removed]",
      "text/plain": [
       "<Figure size 720x360 with 1 Axes>"
      ]
     },
     "metadata": {
      "needs_background": "light"
     },
     "output_type": "display_data"
    }
   ],
   "source": [
    "# bar plot for our findings\n",
    "df_Hndcp =  bar_plots(df_clean, 'Handicap')"
   ]
  },
  {
   "cell_type": "markdown",
   "metadata": {},
   "source": [
    "> - Most of the patients has no disability as they represent 97.9% of the appointments. However they has the 3rd attendance rate in comparision to the others with 79.77 % almost as the attendance of patients with two disabilities which is 79.78%\n",
    "> - We find more commitment in the patiens with one disability as they has the highest attendance rate 82% of their appointment.\n",
    "> - Then we find a decrease in the rate of attendance as higher the number of the disability with the lowest 66.67 % for patients with 4 disabilities"
   ]
  },
  {
   "cell_type": "markdown",
   "metadata": {},
   "source": [
    "---\n",
    "---\n",
    "<a id='conclusions'></a>\n",
    "## Conclusions\n",
    "\n",
    "- Overall Number of patients who show up are more than who don't show, number of no show patients are 20.19 %\n",
    "- Females are inclined to make appointments more than the males, but males are slightly more committed to attend\n",
    "- The younger the patient the higher number of appointments made, though we can notice that patients between 50 years old to 80 years old are more committed to show to the appointments\n",
    "- Patients who don't have Scholarships are more committed in attending the appointments than the patients who have scholarship\n",
    "- Patients who have \"Hypertension\" are more committed in attending the appointments compared to the patients with no \"Hypertension\"\n",
    "- Patients who have \"Diabetes\" are more committed in attending the appointments compared to the patients with no \"Diabetes\"\n",
    "- Alcoholic patients are slightly less committed to attend that the patients who don't suffer from \"Alcoholism\" \n",
    "- Not a lot of patients received a reminder SMS, And the percentage of Attendance for the patients who received the SMS is lower than the patients who didn't receive the reminder.\n",
    "- When comparing patients with more than one disability we notice that, patients with 4 disabilities has the least attendance percentage, while the patients with one disability has the highest attendance percentage\n"
   ]
  },
  {
   "cell_type": "markdown",
   "metadata": {},
   "source": [
    "## Limitations\n",
    "- There are a few wrong data need to be explatined, negative age values and wrong scheduling dates\n",
    "- patients with ages from (0 to 5 has higher number of appointments, also The Females have higher number of appointments,it could be the mothers making the appointments for their children, and if that the case then the propotion of the genders need to be revaluated"
   ]
  }
 ],
 "metadata": {
  "kernelspec": {
   "display_name": "Python 3",
   "language": "python",
   "name": "python3"
  },
  "language_info": {
   "codemirror_mode": {
    "name": "ipython",
    "version": 3
   },
   "file_extension": ".py",
   "mimetype": "text/x-python",
   "name": "python",
   "nbconvert_exporter": "python",
   "pygments_lexer": "ipython3",
   "version": "3.8.8"
  }
 },
 "nbformat": 4,
 "nbformat_minor": 2
}
